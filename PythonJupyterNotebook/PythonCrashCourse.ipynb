{
 "cells": [
  {
   "cell_type": "markdown",
   "metadata": {},
   "source": [
    "# Python Crash Course\n",
    "\n",
    "We are going to see the below parts of the Python :\n",
    "1. Basic Data Type\n",
    "2. Arithmetic Operations\n",
    "3. Variables\n",
    "4. Numeric Data Types\n",
    "5. String Data Types\n",
    "6. Booleans - With comparision & Logical operators\n",
    "7. Methods\n",
    "8. List\n",
    "9. Slicing\n",
    "10. Membership Operators\n",
    "11. Mutability I\n",
    "12. Mutability II\n",
    "13. Common Function & Methods\n",
    "14. Tuples\n",
    "15. Sets\n",
    "16. Dictionaries\n",
    "17. Compounded Data Structures"
   ]
  },
  {
   "cell_type": "markdown",
   "metadata": {},
   "source": [
    "#### Hello World Program\n",
    "This is the place where you will try to have some hands on with Jupyter note book and python"
   ]
  },
  {
   "cell_type": "code",
   "execution_count": null,
   "metadata": {},
   "outputs": [],
   "source": [
    "# Below is written \"Hello world\", now press shift+enter\n",
    "# On left side you will see \"Out[x]\" where x is an integer.\n",
    "# The moment you are actually not 'Prining' the value you will see it.\n",
    "# This is just to familier you with the Jupyter env with python.\n",
    "\n",
    "# When you download this as python file '*.py' , this \"Hello World\"\n",
    "# will not be printed.\n",
    "\"Hello World\""
   ]
  },
  {
   "cell_type": "code",
   "execution_count": null,
   "metadata": {},
   "outputs": [],
   "source": [
    "# Basic Python code starts from below\n",
    "# Press Shift+Enter to run this cell, now you will not observe \n",
    "# \"Out[x]\" where x is an integer as you want something to print.\n",
    "# \n",
    "print(\"Hello World\")"
   ]
  },
  {
   "cell_type": "markdown",
   "metadata": {},
   "source": [
    "## 1. Data Type\n",
    "A data type or simply type is an attribute of data which tells the compiler or interpreter how the programmer intends to use the data.\n",
    "\n",
    "* **Integer**\n",
    "    - 2, -3, 0 etc\n",
    "* **Float**\n",
    "    - 2.3, 3.8, 0.1 etc    \n",
    "* **String**\n",
    "    - \"Python\", \"MBRDI\"\n",
    "    \n",
    "Try it yourself !"
   ]
  },
  {
   "cell_type": "code",
   "execution_count": null,
   "metadata": {},
   "outputs": [],
   "source": [
    "# Lets print the type here\n",
    "# 'type()' is a function which tell what is the type !\n",
    "print(\"Type of data used :: \")\n",
    "print(type(2))\n",
    "print(type(2.2))\n",
    "print(type(\"MBRDI\"))"
   ]
  },
  {
   "cell_type": "markdown",
   "metadata": {},
   "source": [
    "## 2. Arithmetic Operations\n",
    "Arithmetic Operations are the basic opration that we learnt in Maths.\n",
    "* Addition : +\n",
    "* Substraction : -\n",
    "* Division {Integer Division | Float Division} : // | /\n",
    "* Modulus : %"
   ]
  },
  {
   "cell_type": "code",
   "execution_count": null,
   "metadata": {},
   "outputs": [],
   "source": [
    "# Addition without variable\n",
    "2 + 2"
   ]
  },
  {
   "cell_type": "code",
   "execution_count": null,
   "metadata": {},
   "outputs": [],
   "source": [
    "5 - 2"
   ]
  },
  {
   "cell_type": "code",
   "execution_count": null,
   "metadata": {},
   "outputs": [],
   "source": [
    "# Integer Division : Result will be integer\n",
    "# (Round off to low nearest value)\n",
    "# This results output of the int type\n",
    "# this results in quotient\n",
    "5 // 2"
   ]
  },
  {
   "cell_type": "code",
   "execution_count": null,
   "metadata": {},
   "outputs": [],
   "source": [
    "# Float Division : This results output of the float type\n",
    "# this results in quotient\n",
    "5 / 2"
   ]
  },
  {
   "cell_type": "code",
   "execution_count": null,
   "metadata": {},
   "outputs": [],
   "source": [
    "# Modulus will give you remainder of division\n",
    "5 % 2"
   ]
  },
  {
   "cell_type": "code",
   "execution_count": null,
   "metadata": {},
   "outputs": [],
   "source": [
    "7 * 7"
   ]
  },
  {
   "cell_type": "code",
   "execution_count": null,
   "metadata": {},
   "outputs": [],
   "source": [
    "# Python follows order of operation \n",
    "# PEMDAS is a acronym for Parenthesis, Exponents, Multiplication, Division, Addition, and Subtraction\n",
    "(6 + 3 * 9 + 3)"
   ]
  },
  {
   "cell_type": "code",
   "execution_count": null,
   "metadata": {},
   "outputs": [],
   "source": [
    "((6 + 3) * (9 + 3))"
   ]
  },
  {
   "cell_type": "code",
   "execution_count": null,
   "metadata": {},
   "outputs": [],
   "source": [
    "# Exponents\n",
    "# '^' is not used for exponents, '^' represent bit wise operations\n",
    "# its '**' (Double asterisks)\n",
    "9**2"
   ]
  },
  {
   "cell_type": "code",
   "execution_count": null,
   "metadata": {},
   "outputs": [],
   "source": [
    "6**2"
   ]
  },
  {
   "cell_type": "markdown",
   "metadata": {},
   "source": [
    "## 3. Variables\n",
    "**mathematics**\n",
    "    - a quantity which during a calculation is assumed to vary or be capable of varying in value.\n",
    "**computing**\n",
    "    - a data item that may take on more than one value during the runtime of a program.\n",
    "    \n",
    "We have seen the basic data types and arithmetic operations.\n",
    "Now how are you going to use them ??\n",
    "Will you keep writing your code using these values ??\n",
    "\n",
    "In Maths, many times you would have heard \n",
    "\n",
    "_'Lets assume the value be x'_\n",
    "\n",
    "Also it could be defined as Label, that could be used to hold a Value.\n",
    "Variables hold value in memory that could be retrive many times."
   ]
  },
  {
   "cell_type": "code",
   "execution_count": null,
   "metadata": {},
   "outputs": [],
   "source": [
    "# Need not to tell what data type it is.\n",
    "a = 2\n",
    "b = 2.2\n",
    "c = \"MBRDI\"\n",
    "\n",
    "# Now print and see them\n",
    "print(\" a :: \", a)\n",
    "print(\" b :: \", b)\n",
    "print(\" c :: \", c)\n",
    "\n",
    "# Check here the type of the variable/token\n",
    "print(\"Type of data used :: \")\n",
    "print(type(a))\n",
    "print(type(b))\n",
    "print(type(c))"
   ]
  },
  {
   "cell_type": "code",
   "execution_count": null,
   "metadata": {},
   "outputs": [],
   "source": [
    "# Need not to tell what data type it is. \n",
    "# Also you can change the data that variable holds\n",
    "a = \"This value is changed to string\" \n",
    "b = 2\n",
    "c = 9658.265\n",
    "\n",
    "# Now print and see them\n",
    "print(\" a :: \", a)\n",
    "print(\" b :: \", b)\n",
    "print(\" c :: \", c)\n",
    "\n",
    "# Check here the type of the variable/token\n",
    "print(\"Type of data used :: \")\n",
    "print(type(a))\n",
    "print(type(b))\n",
    "print(type(c))"
   ]
  },
  {
   "cell_type": "markdown",
   "metadata": {},
   "source": [
    "### Rules : Variable Names\n",
    "- A variable can have a short name (like x and y) or a more descriptive name (age, carname, total_volume).\n",
    "- A variable name must start with a letter or the underscore character\n",
    "- A variable name cannot start with a number\n",
    "- A variable name can only contain alpha-numeric characters and underscores (A-z, 0-9, and _ )\n",
    "- Variable names are case-sensitive (age, Age and AGE are three different variables)\n",
    "\n",
    "**As a good practice, always use snake_case , variable should be meaning full name**\n",
    "There are few reserved keywords that cannot be used as variables like 'return', 'import' etc"
   ]
  },
  {
   "cell_type": "code",
   "execution_count": null,
   "metadata": {},
   "outputs": [],
   "source": [
    "# Storing data in one go \n",
    "x, y ,z = \"This is x\" , 3 , 7.8\n",
    "    \n",
    "print(x)\n",
    "print(y)\n",
    "print(z)"
   ]
  },
  {
   "cell_type": "code",
   "execution_count": null,
   "metadata": {},
   "outputs": [],
   "source": [
    "x = y = z  = \"All are same\"\n",
    "print(x)\n",
    "print(y)\n",
    "print(z)"
   ]
  },
  {
   "cell_type": "markdown",
   "metadata": {},
   "source": [
    "#### Some wrong way of initialization\n",
    "See the way how these are initialize. Is it fine to have it in this way ?\n",
    " Try It Yourself!!"
   ]
  },
  {
   "cell_type": "code",
   "execution_count": null,
   "metadata": {},
   "outputs": [],
   "source": [
    "6x = 0"
   ]
  },
  {
   "cell_type": "code",
   "execution_count": null,
   "metadata": {},
   "outputs": [],
   "source": [
    "e@e = \"Hi\""
   ]
  },
  {
   "cell_type": "code",
   "execution_count": null,
   "metadata": {},
   "outputs": [],
   "source": [
    "uiuo-uuo = 907.34"
   ]
  },
  {
   "cell_type": "markdown",
   "metadata": {},
   "source": [
    "#### Some Arithmatic operations"
   ]
  },
  {
   "cell_type": "code",
   "execution_count": null,
   "metadata": {},
   "outputs": [],
   "source": [
    "age = 25\n",
    "# After 5 years age would be\n",
    "age = age + 5\n",
    "print(age)"
   ]
  },
  {
   "cell_type": "code",
   "execution_count": null,
   "metadata": {},
   "outputs": [],
   "source": [
    "# Now as age is 30 due to previous execution of cell lets try subtracting age by 10\n",
    "age -= 10\n",
    "print(age)"
   ]
  },
  {
   "cell_type": "markdown",
   "metadata": {},
   "source": [
    "The output above you have seen is very true, but its new way of writing. Its called short hands and you will find that its used at many places in future. Few short hands are below :\n",
    "\n",
    "* age = age + 7,   could also be written as \n",
    "* age += 7 ,and both are same"
   ]
  },
  {
   "cell_type": "code",
   "execution_count": null,
   "metadata": {},
   "outputs": [],
   "source": [
    "age = 5\n",
    "age += 10\n",
    "print(age)"
   ]
  },
  {
   "cell_type": "code",
   "execution_count": null,
   "metadata": {},
   "outputs": [],
   "source": [
    "age = 10\n",
    "age -= 3\n",
    "print(age)"
   ]
  },
  {
   "cell_type": "code",
   "execution_count": null,
   "metadata": {},
   "outputs": [],
   "source": [
    "age = 9\n",
    "age /= 2\n",
    "print(age)"
   ]
  },
  {
   "cell_type": "code",
   "execution_count": null,
   "metadata": {},
   "outputs": [],
   "source": [
    "age = 7\n",
    "age //= 2\n",
    "print(age)"
   ]
  },
  {
   "cell_type": "code",
   "execution_count": null,
   "metadata": {},
   "outputs": [],
   "source": [
    "age = 6\n",
    "age **= 2\n",
    "print(age)"
   ]
  },
  {
   "cell_type": "markdown",
   "metadata": {},
   "source": [
    "## 4. Numeric Data Types\n",
    "* int : to store the integer data types\n",
    "* float : to store float data type (values with decimal)"
   ]
  },
  {
   "cell_type": "code",
   "execution_count": null,
   "metadata": {},
   "outputs": [],
   "source": [
    "x = 9\n",
    "y = 4\n",
    "z = x/y\n",
    "print(z)"
   ]
  },
  {
   "cell_type": "code",
   "execution_count": null,
   "metadata": {},
   "outputs": [],
   "source": [
    "a = 5.7\n",
    "z = int(a)\n",
    "print(z)"
   ]
  },
  {
   "cell_type": "code",
   "execution_count": null,
   "metadata": {},
   "outputs": [],
   "source": [
    "a = 5\n",
    "z = float(a)\n",
    "print(z)"
   ]
  },
  {
   "cell_type": "markdown",
   "metadata": {},
   "source": [
    "## 5. String Data Types\n",
    "Often time we have to work with 'texts' that are known as strings in Python\n",
    "We can define strings as series of character, enclosed by single or double quotes."
   ]
  },
  {
   "cell_type": "code",
   "execution_count": null,
   "metadata": {},
   "outputs": [],
   "source": [
    "name = \"Mercedes\"\n",
    "print(name)\n",
    "print(type(name))"
   ]
  },
  {
   "cell_type": "code",
   "execution_count": null,
   "metadata": {},
   "outputs": [],
   "source": [
    "Dia = \"Benz said \"Hey Mercedes !\" \"\"\n",
    "print(Dia)\n",
    "print(type(Dia))"
   ]
  },
  {
   "cell_type": "code",
   "execution_count": null,
   "metadata": {},
   "outputs": [],
   "source": [
    "Dia = 'Benz said, \"Hey Mercedes !\" '\n",
    "print(Dia)\n",
    "print(type(Dia))"
   ]
  },
  {
   "cell_type": "code",
   "execution_count": null,
   "metadata": {},
   "outputs": [],
   "source": [
    "Dia = 'Benz said, \"Hey Mercedes !\" you're best '\n",
    "print(Dia)\n",
    "print(type(Dia))"
   ]
  },
  {
   "cell_type": "code",
   "execution_count": null,
   "metadata": {},
   "outputs": [],
   "source": [
    "Dia = 'Benz said, \"Hey Mercedes !\" you\\'re best '\n",
    "print(Dia)\n",
    "print(type(Dia))"
   ]
  },
  {
   "cell_type": "markdown",
   "metadata": {},
   "source": [
    "#### Adding two stings or say concatenating"
   ]
  },
  {
   "cell_type": "code",
   "execution_count": null,
   "metadata": {},
   "outputs": [],
   "source": [
    "sentance_one = 'Benz said,'\n",
    "sentance_two = ' \"Hey Mercedes !\" you\\'re best'\n",
    "main_sentance = sentance_one + sentance_two\n",
    "print(main_sentance)"
   ]
  },
  {
   "cell_type": "markdown",
   "metadata": {},
   "source": [
    "### Multiplying string \n",
    "It means to repeat the string multiple times"
   ]
  },
  {
   "cell_type": "code",
   "execution_count": null,
   "metadata": {},
   "outputs": [],
   "source": [
    "sentance_one = \"The Best Or Nothing \" \n",
    "long_sentance = sentance_one * 30\n",
    "print(long_sentance)"
   ]
  },
  {
   "cell_type": "markdown",
   "metadata": {},
   "source": [
    "Now what if you have to calculate the no of characters in the **long_sentance**.\n",
    "How will you do it ??"
   ]
  },
  {
   "cell_type": "code",
   "execution_count": null,
   "metadata": {},
   "outputs": [],
   "source": [
    "len_long_sentance = len(long_sentance) # len() returns length of object\n",
    "print(len_long_sentance)"
   ]
  },
  {
   "cell_type": "markdown",
   "metadata": {},
   "source": [
    " ## 6. Booleans : With comparision & Logical operators\n",
    " It has two values 'True' or 'False'\n",
    " \n",
    " No need to hard code anything with true or false"
   ]
  },
  {
   "cell_type": "code",
   "execution_count": null,
   "metadata": {},
   "outputs": [],
   "source": [
    "comp = 1 > 2\n",
    "print(comp)"
   ]
  },
  {
   "cell_type": "code",
   "execution_count": null,
   "metadata": {},
   "outputs": [],
   "source": [
    "comp = 1 < 2\n",
    "print(comp)"
   ]
  },
  {
   "cell_type": "code",
   "execution_count": null,
   "metadata": {},
   "outputs": [],
   "source": [
    "comp = 1 < 2 or 3 > 2\n",
    "print(comp)"
   ]
  },
  {
   "cell_type": "code",
   "execution_count": null,
   "metadata": {},
   "outputs": [],
   "source": [
    "comp = 1 < 2 or 3 < 2\n",
    "print(comp)"
   ]
  },
  {
   "cell_type": "code",
   "execution_count": null,
   "metadata": {},
   "outputs": [],
   "source": [
    "comp = 1 < 2 and 3 > 2\n",
    "print(comp)"
   ]
  },
  {
   "cell_type": "code",
   "execution_count": null,
   "metadata": {},
   "outputs": [],
   "source": [
    "comp = 1 < 2 and 3 < 2\n",
    "print(comp)"
   ]
  },
  {
   "cell_type": "code",
   "execution_count": null,
   "metadata": {},
   "outputs": [],
   "source": [
    "comp = not 1 < 2\n",
    "print(comp)"
   ]
  },
  {
   "cell_type": "code",
   "execution_count": null,
   "metadata": {},
   "outputs": [],
   "source": [
    "comp = 1 == 2 \n",
    "print(comp)"
   ]
  },
  {
   "cell_type": "code",
   "execution_count": null,
   "metadata": {},
   "outputs": [],
   "source": [
    "comp = 2 == 2 \n",
    "print(comp)"
   ]
  },
  {
   "cell_type": "code",
   "execution_count": null,
   "metadata": {},
   "outputs": [],
   "source": [
    "working_at_mercedes = True\n",
    "has_id = True\n",
    "coming_to_office = working_at_mercedes and has_id \n",
    "print(coming_to_office)"
   ]
  },
  {
   "cell_type": "markdown",
   "metadata": {},
   "source": [
    "## 7. Methods\n",
    "We have seen various functions like, len, type, print. These may or may not need argument/arguments.\n",
    "\n",
    "Function needs object as arguments. - Will see this later.\n",
    "\n",
    "Every data type has different methods. Lets try out with string - its interesting with stings :)\n",
    "\n",
    "method is accessed with 'dot' notation"
   ]
  },
  {
   "cell_type": "code",
   "execution_count": null,
   "metadata": {},
   "outputs": [],
   "source": [
    "movie = \"once upon a TIME in mumbai\""
   ]
  },
  {
   "cell_type": "code",
   "execution_count": null,
   "metadata": {},
   "outputs": [],
   "source": [
    "movie.upper()\n",
    "print(movie)"
   ]
  },
  {
   "cell_type": "code",
   "execution_count": null,
   "metadata": {},
   "outputs": [],
   "source": [
    "print(movie.upper())"
   ]
  },
  {
   "cell_type": "code",
   "execution_count": null,
   "metadata": {},
   "outputs": [],
   "source": [
    "print(movie.capitalize())"
   ]
  },
  {
   "cell_type": "code",
   "execution_count": null,
   "metadata": {},
   "outputs": [],
   "source": [
    "print(movie.lower())"
   ]
  },
  {
   "cell_type": "code",
   "execution_count": null,
   "metadata": {},
   "outputs": [],
   "source": [
    "print(movie.split(' '))"
   ]
  },
  {
   "cell_type": "code",
   "execution_count": null,
   "metadata": {},
   "outputs": [],
   "source": [
    "print(movie.count('a'))"
   ]
  },
  {
   "cell_type": "markdown",
   "metadata": {},
   "source": [
    "Every data types has its own  methods."
   ]
  },
  {
   "cell_type": "markdown",
   "metadata": {},
   "source": [
    "## 8. List"
   ]
  },
  {
   "cell_type": "markdown",
   "metadata": {},
   "source": [
    "Basic data structure in the python is sequence. Sequence is composed of elements.\n",
    "Each Element has index that indicates its position.\n",
    "```\n",
    "[element_1, element_2, element_3 ]\n",
    "[   0    ,    1     ,     2     ] \n",
    "```\n",
    "\n",
    "List are always written in SQUARE BRACKETS"
   ]
  },
  {
   "cell_type": "code",
   "execution_count": null,
   "metadata": {},
   "outputs": [],
   "source": [
    "name = ['Mercedes','BMW','Audi']"
   ]
  },
  {
   "cell_type": "code",
   "execution_count": null,
   "metadata": {},
   "outputs": [],
   "source": [
    "print(name[0])\n",
    "print(name[1])\n",
    "print(name[2])"
   ]
  },
  {
   "cell_type": "code",
   "execution_count": null,
   "metadata": {},
   "outputs": [],
   "source": [
    "# Try accessing something that is out of Range\n",
    "print(name[200])"
   ]
  },
  {
   "cell_type": "code",
   "execution_count": null,
   "metadata": {},
   "outputs": [],
   "source": [
    "# List need NOT to contain the same data type\n",
    "diff_data = ['Mercedes','BMW','Audi', 20.2, 87, True, False]"
   ]
  },
  {
   "cell_type": "code",
   "execution_count": null,
   "metadata": {},
   "outputs": [],
   "source": [
    "# Length of list\n",
    "length = len(diff_data)\n",
    "print(length)"
   ]
  },
  {
   "cell_type": "code",
   "execution_count": null,
   "metadata": {},
   "outputs": [],
   "source": [
    "print(diff_data[length])"
   ]
  },
  {
   "cell_type": "code",
   "execution_count": null,
   "metadata": {},
   "outputs": [],
   "source": [
    "print(diff_data[length-1])"
   ]
  },
  {
   "cell_type": "code",
   "execution_count": null,
   "metadata": {},
   "outputs": [],
   "source": [
    "print(diff_data[-1])"
   ]
  },
  {
   "cell_type": "code",
   "execution_count": null,
   "metadata": {},
   "outputs": [],
   "source": [
    "print(diff_data[-3])"
   ]
  },
  {
   "cell_type": "markdown",
   "metadata": {},
   "source": [
    "## 9. Slicing\n",
    "We can access more than one element from a list by slicing.\n",
    "It need indices which specifies a range : START and STOP\n",
    "\n",
    "For example, take both indices as below :\n",
    "START = 1\n",
    "STOP = 6\n",
    "\n",
    "list_experiment = [0,1,2,3,4,5,6,7]\n",
    "\n",
    "Here count from 0 (START indices) till ... STOP is 6, means counting from 0 and on 6th count we will reach to 5.\n",
    "\n",
    "This means STOP indices is EXCLUSIVE.\n",
    "\n",
    "Lets check it out."
   ]
  },
  {
   "cell_type": "code",
   "execution_count": null,
   "metadata": {},
   "outputs": [],
   "source": [
    "numbers = [0, 1, 2, 3, 4, 5, 6, 7 ,8 ,9 ,10]\n",
    "print(numbers)"
   ]
  },
  {
   "cell_type": "code",
   "execution_count": null,
   "metadata": {},
   "outputs": [],
   "source": [
    "# Lets take out element from 2 to 9 \n",
    "print(numbers[2:10])"
   ]
  },
  {
   "cell_type": "code",
   "execution_count": null,
   "metadata": {},
   "outputs": [],
   "source": [
    "# Lets take out element from 0 to 9 \n",
    "print(\"Method 1 :: \", numbers[0:10])\n",
    "\n",
    "# Observe here, there is on starting index\n",
    "print(\"Method 2 :: \", numbers[:10]) "
   ]
  },
  {
   "cell_type": "code",
   "execution_count": null,
   "metadata": {},
   "outputs": [],
   "source": [
    "# everything form 2 to 10\n",
    "print(\"Method 1 :: \", numbers[2:11]) \n",
    "\n",
    "print(\"Method 2 :: \", numbers[2:len(numbers)])\n",
    "\n",
    "# Everything till last index if last index is not given\n",
    "print(\"Method 3 :: \", numbers[2:]) "
   ]
  },
  {
   "cell_type": "code",
   "execution_count": null,
   "metadata": {},
   "outputs": [],
   "source": [
    "# Entire list in the Slicing way\n",
    "# but when you want to have complete list, you do not need to slice it\n",
    "\n",
    "print(numbers[:]) "
   ]
  },
  {
   "cell_type": "markdown",
   "metadata": {},
   "source": [
    "#### Creating list of numbers in more concise way"
   ]
  },
  {
   "cell_type": "code",
   "execution_count": null,
   "metadata": {},
   "outputs": [],
   "source": [
    "# STOP index/num is EXCLUSIVE\n",
    "# Printing the list from range 0 -9\n",
    "\n",
    "print(list(range(0,10)))"
   ]
  },
  {
   "cell_type": "code",
   "execution_count": null,
   "metadata": {},
   "outputs": [],
   "source": [
    "# Printing the list from range 0 -99\n",
    "# Hardcoding them would have taken to much of time\n",
    "# here range saves us :)\n",
    "\n",
    "print(list(range(0,100)))"
   ]
  },
  {
   "cell_type": "code",
   "execution_count": null,
   "metadata": {},
   "outputs": [],
   "source": [
    "# Printing the list from range 0 -9\n",
    "# If start index in range function is not defined, python assume\n",
    "# start index as 0\n",
    "\n",
    "print(list(range(100)))"
   ]
  },
  {
   "cell_type": "code",
   "execution_count": null,
   "metadata": {},
   "outputs": [],
   "source": [
    "# There one more important argument in range function, the third argument\n",
    "# in fn is STEP SIZE \n",
    "# Note : Ensure to add START index when using STEP SIZE\n",
    "# Here starting from Zero step size of 5 is taken int account, \n",
    "# it means that it will include every fifthe no in sequence\n",
    "\n",
    "print(list(range(0,100,5)))"
   ]
  },
  {
   "cell_type": "code",
   "execution_count": null,
   "metadata": {},
   "outputs": [],
   "source": [
    "print(list(range(0,100,3)))"
   ]
  },
  {
   "cell_type": "markdown",
   "metadata": {},
   "source": [
    "#### Slicing of String"
   ]
  },
  {
   "cell_type": "code",
   "execution_count": null,
   "metadata": {},
   "outputs": [],
   "source": [
    "# You can SLICE string in the same way as of LIST\n",
    "office_name = \"Mercedes-Benz Research and Development India\"\n",
    "length = len(office_name)\n",
    "\n",
    "print(\"1 - \", office_name[:])\n",
    "print(\"2 - \", office_name[5:])\n",
    "print(\"3 - \", office_name[:length])\n",
    "print(\"4 - \", office_name[:-1])"
   ]
  },
  {
   "cell_type": "markdown",
   "metadata": {},
   "source": [
    "## 10. Membership Operators\n",
    "Strings and list are 'like' similar kind of data type\n",
    "\n",
    "* 'in'\n",
    "* 'not in'\n",
    "\n",
    "These results in _True_ or _False_"
   ]
  },
  {
   "cell_type": "code",
   "execution_count": null,
   "metadata": {},
   "outputs": [],
   "source": [
    "weeks = ['Mon', 'Tue' , 'Wed']\n",
    "\n",
    "# Evaluation for 'in'\n",
    "print('1. ', 'Sat' in weeks)\n",
    "print('2. ', 'Tue' in weeks)"
   ]
  },
  {
   "cell_type": "code",
   "execution_count": null,
   "metadata": {},
   "outputs": [],
   "source": [
    "# Evaluation for 'in'\n",
    "print('1. ', 'Sat' not in weeks)\n",
    "print('2. ', 'Tue' not in weeks)"
   ]
  },
  {
   "cell_type": "markdown",
   "metadata": {},
   "source": [
    "## 11. Mutability I\n",
    "\n",
    "Mutable   : Liable to change.\n",
    "\n",
    "Immutable : Not Liable to change\n",
    "\n",
    "Whether are not we can CHANGE somthing once its been CREATED !\n",
    "\n",
    "* If object CAN be change then its MUTABLE\n",
    "* If object CANNOT be change then its IMMUTABLE.\n",
    "\n",
    "LIST and STRING is very similar data types in the sence that they share similar methods. But they are distinct in many way - one difference is Mutability.\n",
    "\n",
    "**LIST - Mutable ordered sequence of elements**\n",
    "\n",
    "**STRING- Immutable ordered sequence of elements**\n",
    "\n",
    "\n"
   ]
  },
  {
   "cell_type": "code",
   "execution_count": null,
   "metadata": {},
   "outputs": [],
   "source": [
    "items = [\"pencil\" , \"book\", \"bag\"]"
   ]
  },
  {
   "cell_type": "code",
   "execution_count": null,
   "metadata": {},
   "outputs": [],
   "source": [
    "# Changing book to \"notebook\"\n",
    "items[1] = \"notebook\"\n",
    "print(items)"
   ]
  },
  {
   "cell_type": "code",
   "execution_count": null,
   "metadata": {},
   "outputs": [],
   "source": [
    "# Now check same with string.\n",
    "# Making spelling mistake in Mercedes and then will try to change it\n",
    "car = 'Merzedes'\n",
    "print(car)"
   ]
  },
  {
   "cell_type": "code",
   "execution_count": null,
   "metadata": {},
   "outputs": [],
   "source": [
    "# Lets try to change it\n",
    "print(car[3])"
   ]
  },
  {
   "cell_type": "code",
   "execution_count": null,
   "metadata": {},
   "outputs": [],
   "source": [
    "car[3] = 'c'"
   ]
  },
  {
   "cell_type": "markdown",
   "metadata": {},
   "source": [
    "## 12. Mutability II"
   ]
  },
  {
   "cell_type": "code",
   "execution_count": null,
   "metadata": {},
   "outputs": [],
   "source": [
    "# Lets see strings\n",
    "name = 'Mercedes'\n",
    "other_name = name\n",
    "print(\"1 - \",name)\n",
    "print(\"2 - \",other_name)\n",
    "name = 'Benz'\n",
    "print(\"3 - \",name)\n",
    "print(\"4 - \",other_name)\n",
    "\n",
    "# This is where mutability comes into picture\n",
    "# other_name doesnt changes even after changing name."
   ]
  },
  {
   "cell_type": "code",
   "execution_count": 3,
   "metadata": {},
   "outputs": [],
   "source": [
    "# Lets see here with with LIST and its mutability\n",
    "coding_lang = ['C++', 'Python', 'C', 'C#', 'Java']"
   ]
  },
  {
   "cell_type": "code",
   "execution_count": 4,
   "metadata": {},
   "outputs": [],
   "source": [
    "more_coding_lang = coding_lang"
   ]
  },
  {
   "cell_type": "code",
   "execution_count": 5,
   "metadata": {},
   "outputs": [
    {
     "name": "stdout",
     "output_type": "stream",
     "text": [
      "Go\n"
     ]
    }
   ],
   "source": [
    "coding_lang[0]  = \"Go\"\n",
    "print(coding_lang[0])"
   ]
  },
  {
   "cell_type": "code",
   "execution_count": 6,
   "metadata": {},
   "outputs": [
    {
     "name": "stdout",
     "output_type": "stream",
     "text": [
      "['Go', 'Python', 'C', 'C#', 'Java']\n"
     ]
    }
   ],
   "source": [
    "print(coding_lang)"
   ]
  },
  {
   "cell_type": "code",
   "execution_count": 7,
   "metadata": {},
   "outputs": [
    {
     "name": "stdout",
     "output_type": "stream",
     "text": [
      "['Go', 'Python', 'C', 'C#', 'Java']\n"
     ]
    }
   ],
   "source": [
    "print(more_coding_lang)"
   ]
  },
  {
   "cell_type": "markdown",
   "metadata": {},
   "source": [
    "Note : **Be cautious while working with LIST, STRING or better to say Mutable and Immutable data types**"
   ]
  },
  {
   "cell_type": "markdown",
   "metadata": {},
   "source": [
    "## 13. Common Function & Methods\n",
    "Here we will se various function and Methods associated with Lists. "
   ]
  },
  {
   "cell_type": "code",
   "execution_count": 26,
   "metadata": {},
   "outputs": [
    {
     "data": {
      "text/plain": [
       "5"
      ]
     },
     "execution_count": 26,
     "metadata": {},
     "output_type": "execute_result"
    }
   ],
   "source": [
    "# len() returns no of elements in LIST\n",
    "num = [4,6,2,8,1]\n",
    "len(num)"
   ]
  },
  {
   "cell_type": "code",
   "execution_count": 12,
   "metadata": {},
   "outputs": [
    {
     "data": {
      "text/plain": [
       "10"
      ]
     },
     "execution_count": 12,
     "metadata": {},
     "output_type": "execute_result"
    }
   ],
   "source": [
    "max(num)"
   ]
  },
  {
   "cell_type": "code",
   "execution_count": 29,
   "metadata": {},
   "outputs": [
    {
     "data": {
      "text/plain": [
       "'zeta'"
      ]
     },
     "execution_count": 29,
     "metadata": {},
     "output_type": "execute_result"
    }
   ],
   "source": [
    "# How max() will work on list of string\n",
    "name = ['alpha','zeta', 'gama','beta']\n",
    "max(name)"
   ]
  },
  {
   "cell_type": "code",
   "execution_count": 36,
   "metadata": {},
   "outputs": [
    {
     "data": {
      "text/plain": [
       "'zeta'"
      ]
     },
     "execution_count": 36,
     "metadata": {},
     "output_type": "execute_result"
    }
   ],
   "source": [
    "# max() in string of list is based on alphabetical order\n",
    "name_1 = ['alpha','beta', 'gama','zebra', 'zeta']\n",
    "max(name_1)"
   ]
  },
  {
   "cell_type": "code",
   "execution_count": 24,
   "metadata": {},
   "outputs": [
    {
     "data": {
      "text/plain": [
       "'alpha'"
      ]
     },
     "execution_count": 24,
     "metadata": {},
     "output_type": "execute_result"
    }
   ],
   "source": [
    "min(name_1)"
   ]
  },
  {
   "cell_type": "code",
   "execution_count": 35,
   "metadata": {},
   "outputs": [
    {
     "ename": "TypeError",
     "evalue": "'>' not supported between instances of 'int' and 'str'",
     "output_type": "error",
     "traceback": [
      "\u001b[1;31m---------------------------------------------------------------------------\u001b[0m",
      "\u001b[1;31mTypeError\u001b[0m                                 Traceback (most recent call last)",
      "\u001b[1;32m<ipython-input-35-ac6004c908fc>\u001b[0m in \u001b[0;36m<module>\u001b[1;34m\u001b[0m\n\u001b[0;32m      1\u001b[0m \u001b[1;31m# max() in mixed list\u001b[0m\u001b[1;33m\u001b[0m\u001b[1;33m\u001b[0m\u001b[1;33m\u001b[0m\u001b[0m\n\u001b[0;32m      2\u001b[0m \u001b[0mname_2\u001b[0m \u001b[1;33m=\u001b[0m \u001b[1;33m[\u001b[0m\u001b[1;34m'alpha'\u001b[0m\u001b[1;33m,\u001b[0m\u001b[1;34m'beta'\u001b[0m\u001b[1;33m,\u001b[0m \u001b[1;34m'gama'\u001b[0m\u001b[1;33m,\u001b[0m\u001b[1;34m'zebra'\u001b[0m\u001b[1;33m,\u001b[0m \u001b[1;34m'zeta'\u001b[0m\u001b[1;33m,\u001b[0m \u001b[1;36m1\u001b[0m \u001b[1;33m,\u001b[0m\u001b[1;36m2\u001b[0m\u001b[1;33m]\u001b[0m\u001b[1;33m\u001b[0m\u001b[1;33m\u001b[0m\u001b[0m\n\u001b[1;32m----> 3\u001b[1;33m \u001b[0mmax\u001b[0m\u001b[1;33m(\u001b[0m\u001b[0mname_2\u001b[0m\u001b[1;33m)\u001b[0m\u001b[1;33m\u001b[0m\u001b[1;33m\u001b[0m\u001b[0m\n\u001b[0m",
      "\u001b[1;31mTypeError\u001b[0m: '>' not supported between instances of 'int' and 'str'"
     ]
    }
   ],
   "source": [
    "# max() in mixed list\n",
    "name_2 = ['alpha','beta', 'gama','zebra', 'zeta', 1 ,2]\n",
    "max(name_2)"
   ]
  },
  {
   "cell_type": "code",
   "execution_count": 27,
   "metadata": {},
   "outputs": [
    {
     "data": {
      "text/plain": [
       "[1, 2, 4, 6, 8]"
      ]
     },
     "execution_count": 27,
     "metadata": {},
     "output_type": "execute_result"
    }
   ],
   "source": [
    "# Sorting the list - remember it gives copy of the list\n",
    "sorted(num)"
   ]
  },
  {
   "cell_type": "code",
   "execution_count": 28,
   "metadata": {},
   "outputs": [
    {
     "name": "stdout",
     "output_type": "stream",
     "text": [
      "[4, 6, 2, 8, 1]\n"
     ]
    }
   ],
   "source": [
    "# See, there is no difference. Origional remain same!\n",
    "print(num)"
   ]
  },
  {
   "cell_type": "code",
   "execution_count": 30,
   "metadata": {},
   "outputs": [
    {
     "data": {
      "text/plain": [
       "['alpha', 'beta', 'gama', 'zeta']"
      ]
     },
     "execution_count": 30,
     "metadata": {},
     "output_type": "execute_result"
    }
   ],
   "source": [
    "sorted(name)"
   ]
  },
  {
   "cell_type": "markdown",
   "metadata": {},
   "source": [
    "**Lets see join( _ ) method**"
   ]
  },
  {
   "cell_type": "code",
   "execution_count": 31,
   "metadata": {},
   "outputs": [
    {
     "data": {
      "text/plain": [
       "'Jan-Feb-March'"
      ]
     },
     "execution_count": 31,
     "metadata": {},
     "output_type": "execute_result"
    }
   ],
   "source": [
    "# Lets see join(_) method\n",
    "'-'.join(['Jan','Feb','March'])"
   ]
  },
  {
   "cell_type": "code",
   "execution_count": 32,
   "metadata": {},
   "outputs": [
    {
     "data": {
      "text/plain": [
       "'Jan*Feb*March'"
      ]
     },
     "execution_count": 32,
     "metadata": {},
     "output_type": "execute_result"
    }
   ],
   "source": [
    "'*'.join(['Jan','Feb','March'])"
   ]
  },
  {
   "cell_type": "code",
   "execution_count": 33,
   "metadata": {},
   "outputs": [
    {
     "data": {
      "text/plain": [
       "'Jan-####-Feb-####-March'"
      ]
     },
     "execution_count": 33,
     "metadata": {},
     "output_type": "execute_result"
    }
   ],
   "source": [
    "'-####-'.join(['Jan','Feb','March'])"
   ]
  },
  {
   "cell_type": "code",
   "execution_count": 37,
   "metadata": {},
   "outputs": [
    {
     "data": {
      "text/plain": [
       "'alpha-####-beta-####-gama-####-zebra-####-zeta'"
      ]
     },
     "execution_count": 37,
     "metadata": {},
     "output_type": "execute_result"
    }
   ],
   "source": [
    "'-####-'.join(name_1)"
   ]
  },
  {
   "cell_type": "markdown",
   "metadata": {},
   "source": [
    "**Lets see format( _ ) method : Easily demonstrated with print()**"
   ]
  },
  {
   "cell_type": "code",
   "execution_count": 38,
   "metadata": {},
   "outputs": [
    {
     "name": "stdout",
     "output_type": "stream",
     "text": [
      "This person is tall, slim, and fit\n"
     ]
    }
   ],
   "source": [
    "print(\"This person is {}, {}, and {}\".format('tall','slim','fair'))"
   ]
  },
  {
   "cell_type": "markdown",
   "metadata": {},
   "source": [
    "**Lets see append()**"
   ]
  },
  {
   "cell_type": "code",
   "execution_count": 43,
   "metadata": {},
   "outputs": [
    {
     "data": {
      "text/plain": [
       "['Jan', 'Feb', 'March']"
      ]
     },
     "execution_count": 43,
     "metadata": {},
     "output_type": "execute_result"
    }
   ],
   "source": [
    "month = ['Jan','Feb','March']\n",
    "month"
   ]
  },
  {
   "cell_type": "code",
   "execution_count": 44,
   "metadata": {},
   "outputs": [
    {
     "name": "stdout",
     "output_type": "stream",
     "text": [
      "['Jan', 'Feb', 'March', 'April']\n"
     ]
    }
   ],
   "source": [
    "month.append('April')\n",
    "print(month)"
   ]
  },
  {
   "cell_type": "markdown",
   "metadata": {},
   "source": [
    "## 14. Tuples\n",
    "**Tuple- Immutable ordered sequence of elements**\n",
    "Stores related information.\n",
    "\n",
    "This is defined with small bracket\n",
    "\n",
    "(related information)"
   ]
  },
  {
   "cell_type": "code",
   "execution_count": null,
   "metadata": {},
   "outputs": [],
   "source": [
    "feature = ('tall','thin','fair')"
   ]
  }
 ],
 "metadata": {
  "kernelspec": {
   "display_name": "Python 3",
   "language": "python",
   "name": "python3"
  },
  "language_info": {
   "codemirror_mode": {
    "name": "ipython",
    "version": 3
   },
   "file_extension": ".py",
   "mimetype": "text/x-python",
   "name": "python",
   "nbconvert_exporter": "python",
   "pygments_lexer": "ipython3",
   "version": "3.6.10"
  }
 },
 "nbformat": 4,
 "nbformat_minor": 4
}
