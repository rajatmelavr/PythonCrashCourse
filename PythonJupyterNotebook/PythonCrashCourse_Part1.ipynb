{
 "cells": [
  {
   "cell_type": "markdown",
   "metadata": {},
   "source": [
    "# Python Crash Course Part 1\n",
    "\n",
    "We are going to see the below parts of the Python :\n",
    "1. Basic Data Type\n",
    "2. Arithmetic Operations\n",
    "3. Variables\n",
    "4. Numeric Data Types\n",
    "5. String Data Types\n",
    "6. Booleans - With comparision & Logical operators\n",
    "7. Methods\n",
    "8. List\n",
    "9. Slicing\n",
    "10. Membership Operators\n",
    "11. Mutability I\n",
    "12. Mutability II\n",
    "13. Common Function & Methods\n",
    "14. Tuples\n",
    "15. Sets\n",
    "16. Dictionaries\n",
    "17. Compounded Data Structures"
   ]
  },
  {
   "cell_type": "markdown",
   "metadata": {},
   "source": [
    "#### Hello World Program\n",
    "This is the place where you will try to have some hands on with Jupyter note book and python"
   ]
  },
  {
   "cell_type": "code",
   "execution_count": 1,
   "metadata": {},
   "outputs": [
    {
     "data": {
      "text/plain": [
       "'Hello World'"
      ]
     },
     "execution_count": 1,
     "metadata": {},
     "output_type": "execute_result"
    }
   ],
   "source": [
    "# Below is written \"Hello world\", now press shift+enter\n",
    "# On left side you will see \"Out[x]\" where x is an integer.\n",
    "# The moment you are actually not 'Prining' the value you will see it.\n",
    "# This is just to familier you with the Jupyter env with python.\n",
    "\n",
    "# When you download this as python file '*.py' , this \"Hello World\"\n",
    "# will not be printed.\n",
    "\"Hello World\""
   ]
  },
  {
   "cell_type": "code",
   "execution_count": 2,
   "metadata": {},
   "outputs": [
    {
     "name": "stdout",
     "output_type": "stream",
     "text": [
      "Hello World\n"
     ]
    }
   ],
   "source": [
    "# Basic Python code starts from below\n",
    "# Press Shift+Enter to run this cell, now you will not observe \n",
    "# \"Out[x]\" where x is an integer as you want something to print.\n",
    "# \n",
    "print(\"Hello World\")"
   ]
  },
  {
   "cell_type": "markdown",
   "metadata": {},
   "source": [
    "## 1. Data Type\n",
    "A data type or simply type is an attribute of data which tells the compiler or interpreter how the programmer intends to use the data.\n",
    "\n",
    "* **Integer**\n",
    "    - 2, -3, 0 etc\n",
    "* **Float**\n",
    "    - 2.3, 3.8, 0.1 etc    \n",
    "* **String**\n",
    "    - \"Python\", \"MBRDI\"\n",
    "    \n",
    "Try it yourself !"
   ]
  },
  {
   "cell_type": "code",
   "execution_count": 3,
   "metadata": {},
   "outputs": [
    {
     "name": "stdout",
     "output_type": "stream",
     "text": [
      "Type of data used :: \n",
      "<class 'int'>\n",
      "<class 'float'>\n",
      "<class 'str'>\n"
     ]
    }
   ],
   "source": [
    "# Lets print the type here\n",
    "# 'type()' is a function which tell what is the type !\n",
    "print(\"Type of data used :: \")\n",
    "print(type(2))\n",
    "print(type(2.2))\n",
    "print(type(\"MBRDI\"))"
   ]
  },
  {
   "cell_type": "markdown",
   "metadata": {},
   "source": [
    "## 2. Arithmetic Operations\n",
    "Arithmetic Operations are the basic opration that we learnt in Maths.\n",
    "* Addition : +\n",
    "* Substraction : -\n",
    "* Division {Integer Division | Float Division} : // | /\n",
    "* Modulus : %"
   ]
  },
  {
   "cell_type": "code",
   "execution_count": 4,
   "metadata": {},
   "outputs": [
    {
     "data": {
      "text/plain": [
       "4"
      ]
     },
     "execution_count": 4,
     "metadata": {},
     "output_type": "execute_result"
    }
   ],
   "source": [
    "# Addition without variable\n",
    "2 + 2"
   ]
  },
  {
   "cell_type": "code",
   "execution_count": 5,
   "metadata": {},
   "outputs": [
    {
     "data": {
      "text/plain": [
       "3"
      ]
     },
     "execution_count": 5,
     "metadata": {},
     "output_type": "execute_result"
    }
   ],
   "source": [
    "5 - 2"
   ]
  },
  {
   "cell_type": "code",
   "execution_count": 6,
   "metadata": {},
   "outputs": [
    {
     "data": {
      "text/plain": [
       "2"
      ]
     },
     "execution_count": 6,
     "metadata": {},
     "output_type": "execute_result"
    }
   ],
   "source": [
    "# Integer Division : Result will be integer\n",
    "# (Round off to low nearest value)\n",
    "# This results output of the int type\n",
    "# this results in quotient\n",
    "5 // 2"
   ]
  },
  {
   "cell_type": "code",
   "execution_count": 7,
   "metadata": {},
   "outputs": [
    {
     "data": {
      "text/plain": [
       "2.5"
      ]
     },
     "execution_count": 7,
     "metadata": {},
     "output_type": "execute_result"
    }
   ],
   "source": [
    "# Float Division : This results output of the float type\n",
    "# this results in quotient\n",
    "5 / 2"
   ]
  },
  {
   "cell_type": "code",
   "execution_count": 8,
   "metadata": {},
   "outputs": [
    {
     "data": {
      "text/plain": [
       "1"
      ]
     },
     "execution_count": 8,
     "metadata": {},
     "output_type": "execute_result"
    }
   ],
   "source": [
    "# Modulus will give you remainder of division\n",
    "5 % 2"
   ]
  },
  {
   "cell_type": "code",
   "execution_count": 9,
   "metadata": {},
   "outputs": [
    {
     "data": {
      "text/plain": [
       "49"
      ]
     },
     "execution_count": 9,
     "metadata": {},
     "output_type": "execute_result"
    }
   ],
   "source": [
    "7 * 7"
   ]
  },
  {
   "cell_type": "code",
   "execution_count": 10,
   "metadata": {},
   "outputs": [
    {
     "data": {
      "text/plain": [
       "36"
      ]
     },
     "execution_count": 10,
     "metadata": {},
     "output_type": "execute_result"
    }
   ],
   "source": [
    "# Python follows order of operation \n",
    "# PEMDAS is a acronym for Parenthesis, Exponents, Multiplication, Division, Addition, and Subtraction\n",
    "(6 + 3 * 9 + 3)"
   ]
  },
  {
   "cell_type": "code",
   "execution_count": 11,
   "metadata": {},
   "outputs": [
    {
     "data": {
      "text/plain": [
       "108"
      ]
     },
     "execution_count": 11,
     "metadata": {},
     "output_type": "execute_result"
    }
   ],
   "source": [
    "((6 + 3) * (9 + 3))"
   ]
  },
  {
   "cell_type": "code",
   "execution_count": 12,
   "metadata": {},
   "outputs": [
    {
     "data": {
      "text/plain": [
       "81"
      ]
     },
     "execution_count": 12,
     "metadata": {},
     "output_type": "execute_result"
    }
   ],
   "source": [
    "# Exponents\n",
    "# '^' is not used for exponents, '^' represent bit wise operations\n",
    "# its '**' (Double asterisks)\n",
    "9**2"
   ]
  },
  {
   "cell_type": "code",
   "execution_count": 13,
   "metadata": {},
   "outputs": [
    {
     "data": {
      "text/plain": [
       "36"
      ]
     },
     "execution_count": 13,
     "metadata": {},
     "output_type": "execute_result"
    }
   ],
   "source": [
    "6**2"
   ]
  },
  {
   "cell_type": "markdown",
   "metadata": {},
   "source": [
    "## 3. Variables\n",
    "**mathematics**\n",
    "    - a quantity which during a calculation is assumed to vary or be capable of varying in value.\n",
    "**computing**\n",
    "    - a data item that may take on more than one value during the runtime of a program.\n",
    "    \n",
    "We have seen the basic data types and arithmetic operations.\n",
    "Now how are you going to use them ??\n",
    "Will you keep writing your code using these values ??\n",
    "\n",
    "In Maths, many times you would have heard \n",
    "\n",
    "_'Lets assume the value be x'_\n",
    "\n",
    "Also it could be defined as Label, that could be used to hold a Value.\n",
    "Variables hold value in memory that could be retrive many times."
   ]
  },
  {
   "cell_type": "code",
   "execution_count": 14,
   "metadata": {},
   "outputs": [
    {
     "name": "stdout",
     "output_type": "stream",
     "text": [
      " a ::  2\n",
      " b ::  2.2\n",
      " c ::  MBRDI\n",
      "Type of data used :: \n",
      "<class 'int'>\n",
      "<class 'float'>\n",
      "<class 'str'>\n"
     ]
    }
   ],
   "source": [
    "# Need not to tell what data type it is.\n",
    "a = 2\n",
    "b = 2.2\n",
    "c = \"MBRDI\"\n",
    "\n",
    "# Now print and see them\n",
    "print(\" a :: \", a)\n",
    "print(\" b :: \", b)\n",
    "print(\" c :: \", c)\n",
    "\n",
    "# Check here the type of the variable/token\n",
    "print(\"Type of data used :: \")\n",
    "print(type(a))\n",
    "print(type(b))\n",
    "print(type(c))"
   ]
  },
  {
   "cell_type": "code",
   "execution_count": 15,
   "metadata": {},
   "outputs": [
    {
     "name": "stdout",
     "output_type": "stream",
     "text": [
      " a ::  This value is changed to string\n",
      " b ::  2\n",
      " c ::  9658.265\n",
      "Type of data used :: \n",
      "<class 'str'>\n",
      "<class 'int'>\n",
      "<class 'float'>\n"
     ]
    }
   ],
   "source": [
    "# Need not to tell what data type it is. \n",
    "# Also you can change the data that variable holds\n",
    "a = \"This value is changed to string\" \n",
    "b = 2\n",
    "c = 9658.265\n",
    "\n",
    "# Now print and see them\n",
    "print(\" a :: \", a)\n",
    "print(\" b :: \", b)\n",
    "print(\" c :: \", c)\n",
    "\n",
    "# Check here the type of the variable/token\n",
    "print(\"Type of data used :: \")\n",
    "print(type(a))\n",
    "print(type(b))\n",
    "print(type(c))"
   ]
  },
  {
   "cell_type": "markdown",
   "metadata": {},
   "source": [
    "### Rules : Variable Names\n",
    "- A variable can have a short name (like x and y) or a more descriptive name (age, carname, total_volume).\n",
    "- A variable name must start with a letter or the underscore character\n",
    "- A variable name cannot start with a number\n",
    "- A variable name can only contain alpha-numeric characters and underscores (A-z, 0-9, and _ )\n",
    "- Variable names are case-sensitive (age, Age and AGE are three different variables)\n",
    "\n",
    "**As a good practice, always use snake_case , variable should be meaning full name**\n",
    "There are few reserved keywords that cannot be used as variables like 'return', 'import' etc"
   ]
  },
  {
   "cell_type": "code",
   "execution_count": 16,
   "metadata": {},
   "outputs": [
    {
     "name": "stdout",
     "output_type": "stream",
     "text": [
      "This is x\n",
      "3\n",
      "7.8\n"
     ]
    }
   ],
   "source": [
    "# Storing data in one go \n",
    "x, y ,z = \"This is x\" , 3 , 7.8\n",
    "    \n",
    "print(x)\n",
    "print(y)\n",
    "print(z)"
   ]
  },
  {
   "cell_type": "code",
   "execution_count": 17,
   "metadata": {},
   "outputs": [
    {
     "name": "stdout",
     "output_type": "stream",
     "text": [
      "All are same\n",
      "All are same\n",
      "All are same\n"
     ]
    }
   ],
   "source": [
    "x = y = z  = \"All are same\"\n",
    "print(x)\n",
    "print(y)\n",
    "print(z)"
   ]
  },
  {
   "cell_type": "markdown",
   "metadata": {},
   "source": [
    "#### Some wrong way of initialization\n",
    "See the way how these are initialize. Is it fine to have it in this way ?\n",
    " Try It Yourself!!"
   ]
  },
  {
   "cell_type": "code",
   "execution_count": 18,
   "metadata": {},
   "outputs": [
    {
     "ename": "SyntaxError",
     "evalue": "invalid syntax (<ipython-input-18-4620e1e006a7>, line 1)",
     "output_type": "error",
     "traceback": [
      "\u001b[1;36m  File \u001b[1;32m\"<ipython-input-18-4620e1e006a7>\"\u001b[1;36m, line \u001b[1;32m1\u001b[0m\n\u001b[1;33m    6x = 0\u001b[0m\n\u001b[1;37m     ^\u001b[0m\n\u001b[1;31mSyntaxError\u001b[0m\u001b[1;31m:\u001b[0m invalid syntax\n"
     ]
    }
   ],
   "source": [
    "6x = 0"
   ]
  },
  {
   "cell_type": "code",
   "execution_count": 19,
   "metadata": {},
   "outputs": [
    {
     "ename": "SyntaxError",
     "evalue": "can't assign to operator (<ipython-input-19-08ecde464157>, line 1)",
     "output_type": "error",
     "traceback": [
      "\u001b[1;36m  File \u001b[1;32m\"<ipython-input-19-08ecde464157>\"\u001b[1;36m, line \u001b[1;32m1\u001b[0m\n\u001b[1;33m    e@e = \"Hi\"\u001b[0m\n\u001b[1;37m              ^\u001b[0m\n\u001b[1;31mSyntaxError\u001b[0m\u001b[1;31m:\u001b[0m can't assign to operator\n"
     ]
    }
   ],
   "source": [
    "e@e = \"Hi\""
   ]
  },
  {
   "cell_type": "code",
   "execution_count": 20,
   "metadata": {},
   "outputs": [
    {
     "ename": "SyntaxError",
     "evalue": "can't assign to operator (<ipython-input-20-9985259e6510>, line 1)",
     "output_type": "error",
     "traceback": [
      "\u001b[1;36m  File \u001b[1;32m\"<ipython-input-20-9985259e6510>\"\u001b[1;36m, line \u001b[1;32m1\u001b[0m\n\u001b[1;33m    uiuo-uuo = 907.34\u001b[0m\n\u001b[1;37m                     ^\u001b[0m\n\u001b[1;31mSyntaxError\u001b[0m\u001b[1;31m:\u001b[0m can't assign to operator\n"
     ]
    }
   ],
   "source": [
    "uiuo-uuo = 907.34"
   ]
  },
  {
   "cell_type": "markdown",
   "metadata": {},
   "source": [
    "#### Some Arithmatic operations"
   ]
  },
  {
   "cell_type": "code",
   "execution_count": 21,
   "metadata": {},
   "outputs": [
    {
     "name": "stdout",
     "output_type": "stream",
     "text": [
      "30\n"
     ]
    }
   ],
   "source": [
    "age = 25\n",
    "# After 5 years age would be\n",
    "age = age + 5\n",
    "print(age)"
   ]
  },
  {
   "cell_type": "code",
   "execution_count": 22,
   "metadata": {},
   "outputs": [
    {
     "name": "stdout",
     "output_type": "stream",
     "text": [
      "20\n"
     ]
    }
   ],
   "source": [
    "# Now as age is 30 due to previous execution of cell lets try subtracting age by 10\n",
    "age -= 10\n",
    "print(age)"
   ]
  },
  {
   "cell_type": "markdown",
   "metadata": {},
   "source": [
    "The output above you have seen is very true, but its new way of writing. Its called short hands and you will find that its used at many places in future. Few short hands are below :\n",
    "\n",
    "* age = age + 7,   could also be written as \n",
    "* age += 7 ,and both are same"
   ]
  },
  {
   "cell_type": "code",
   "execution_count": 23,
   "metadata": {},
   "outputs": [
    {
     "name": "stdout",
     "output_type": "stream",
     "text": [
      "15\n"
     ]
    }
   ],
   "source": [
    "age = 5\n",
    "age += 10\n",
    "print(age)"
   ]
  },
  {
   "cell_type": "code",
   "execution_count": 24,
   "metadata": {},
   "outputs": [
    {
     "name": "stdout",
     "output_type": "stream",
     "text": [
      "7\n"
     ]
    }
   ],
   "source": [
    "age = 10\n",
    "age -= 3\n",
    "print(age)"
   ]
  },
  {
   "cell_type": "code",
   "execution_count": 25,
   "metadata": {},
   "outputs": [
    {
     "name": "stdout",
     "output_type": "stream",
     "text": [
      "4.5\n"
     ]
    }
   ],
   "source": [
    "age = 9\n",
    "age /= 2\n",
    "print(age)"
   ]
  },
  {
   "cell_type": "code",
   "execution_count": 26,
   "metadata": {},
   "outputs": [
    {
     "name": "stdout",
     "output_type": "stream",
     "text": [
      "3\n"
     ]
    }
   ],
   "source": [
    "age = 7\n",
    "age //= 2\n",
    "print(age)"
   ]
  },
  {
   "cell_type": "code",
   "execution_count": 27,
   "metadata": {},
   "outputs": [
    {
     "name": "stdout",
     "output_type": "stream",
     "text": [
      "36\n"
     ]
    }
   ],
   "source": [
    "age = 6\n",
    "age **= 2\n",
    "print(age)"
   ]
  },
  {
   "cell_type": "markdown",
   "metadata": {},
   "source": [
    "## 4. Numeric Data Types\n",
    "* int : to store the integer data types\n",
    "* float : to store float data type (values with decimal)"
   ]
  },
  {
   "cell_type": "code",
   "execution_count": 28,
   "metadata": {},
   "outputs": [
    {
     "name": "stdout",
     "output_type": "stream",
     "text": [
      "2.25\n"
     ]
    }
   ],
   "source": [
    "x = 9\n",
    "y = 4\n",
    "z = x/y\n",
    "print(z)"
   ]
  },
  {
   "cell_type": "code",
   "execution_count": 29,
   "metadata": {},
   "outputs": [
    {
     "name": "stdout",
     "output_type": "stream",
     "text": [
      "5\n"
     ]
    }
   ],
   "source": [
    "a = 5.7\n",
    "z = int(a)\n",
    "print(z)"
   ]
  },
  {
   "cell_type": "code",
   "execution_count": 30,
   "metadata": {},
   "outputs": [
    {
     "name": "stdout",
     "output_type": "stream",
     "text": [
      "5.0\n"
     ]
    }
   ],
   "source": [
    "a = 5\n",
    "z = float(a)\n",
    "print(z)"
   ]
  },
  {
   "cell_type": "markdown",
   "metadata": {},
   "source": [
    "## 5. String Data Types\n",
    "Often time we have to work with 'texts' that are known as strings in Python\n",
    "We can define strings as series of character, enclosed by single or double quotes."
   ]
  },
  {
   "cell_type": "code",
   "execution_count": 31,
   "metadata": {},
   "outputs": [
    {
     "name": "stdout",
     "output_type": "stream",
     "text": [
      "Mercedes\n",
      "<class 'str'>\n"
     ]
    }
   ],
   "source": [
    "name = \"Mercedes\"\n",
    "print(name)\n",
    "print(type(name))"
   ]
  },
  {
   "cell_type": "code",
   "execution_count": 32,
   "metadata": {},
   "outputs": [
    {
     "ename": "SyntaxError",
     "evalue": "invalid syntax (<ipython-input-32-845661abdb1f>, line 1)",
     "output_type": "error",
     "traceback": [
      "\u001b[1;36m  File \u001b[1;32m\"<ipython-input-32-845661abdb1f>\"\u001b[1;36m, line \u001b[1;32m1\u001b[0m\n\u001b[1;33m    Dia = \"Benz said \"Hey Mercedes !\" \"\"\u001b[0m\n\u001b[1;37m                        ^\u001b[0m\n\u001b[1;31mSyntaxError\u001b[0m\u001b[1;31m:\u001b[0m invalid syntax\n"
     ]
    }
   ],
   "source": [
    "Dia = \"Benz said \"Hey Mercedes !\" \"\"\n",
    "print(Dia)\n",
    "print(type(Dia))"
   ]
  },
  {
   "cell_type": "code",
   "execution_count": 33,
   "metadata": {},
   "outputs": [
    {
     "name": "stdout",
     "output_type": "stream",
     "text": [
      "Benz said, \"Hey Mercedes !\" \n",
      "<class 'str'>\n"
     ]
    }
   ],
   "source": [
    "Dia = 'Benz said, \"Hey Mercedes !\" '\n",
    "print(Dia)\n",
    "print(type(Dia))"
   ]
  },
  {
   "cell_type": "code",
   "execution_count": 34,
   "metadata": {},
   "outputs": [
    {
     "ename": "SyntaxError",
     "evalue": "invalid syntax (<ipython-input-34-b6684f87e24f>, line 1)",
     "output_type": "error",
     "traceback": [
      "\u001b[1;36m  File \u001b[1;32m\"<ipython-input-34-b6684f87e24f>\"\u001b[1;36m, line \u001b[1;32m1\u001b[0m\n\u001b[1;33m    Dia = 'Benz said, \"Hey Mercedes !\" you're best '\u001b[0m\n\u001b[1;37m                                            ^\u001b[0m\n\u001b[1;31mSyntaxError\u001b[0m\u001b[1;31m:\u001b[0m invalid syntax\n"
     ]
    }
   ],
   "source": [
    "Dia = 'Benz said, \"Hey Mercedes !\" you're best '\n",
    "print(Dia)\n",
    "print(type(Dia))"
   ]
  },
  {
   "cell_type": "code",
   "execution_count": 35,
   "metadata": {},
   "outputs": [
    {
     "name": "stdout",
     "output_type": "stream",
     "text": [
      "Benz said, \"Hey Mercedes !\" you're best \n",
      "<class 'str'>\n"
     ]
    }
   ],
   "source": [
    "Dia = 'Benz said, \"Hey Mercedes !\" you\\'re best '\n",
    "print(Dia)\n",
    "print(type(Dia))"
   ]
  },
  {
   "cell_type": "markdown",
   "metadata": {},
   "source": [
    "#### Adding two stings or say concatenating"
   ]
  },
  {
   "cell_type": "code",
   "execution_count": 36,
   "metadata": {},
   "outputs": [
    {
     "name": "stdout",
     "output_type": "stream",
     "text": [
      "Benz said, \"Hey Mercedes !\" you're best\n"
     ]
    }
   ],
   "source": [
    "sentance_one = 'Benz said,'\n",
    "sentance_two = ' \"Hey Mercedes !\" you\\'re best'\n",
    "main_sentance = sentance_one + sentance_two\n",
    "print(main_sentance)"
   ]
  },
  {
   "cell_type": "markdown",
   "metadata": {},
   "source": [
    "### Multiplying string \n",
    "It means to repeat the string multiple times"
   ]
  },
  {
   "cell_type": "code",
   "execution_count": 37,
   "metadata": {},
   "outputs": [
    {
     "name": "stdout",
     "output_type": "stream",
     "text": [
      "The Best Or Nothing The Best Or Nothing The Best Or Nothing The Best Or Nothing The Best Or Nothing The Best Or Nothing The Best Or Nothing The Best Or Nothing The Best Or Nothing The Best Or Nothing The Best Or Nothing The Best Or Nothing The Best Or Nothing The Best Or Nothing The Best Or Nothing The Best Or Nothing The Best Or Nothing The Best Or Nothing The Best Or Nothing The Best Or Nothing The Best Or Nothing The Best Or Nothing The Best Or Nothing The Best Or Nothing The Best Or Nothing The Best Or Nothing The Best Or Nothing The Best Or Nothing The Best Or Nothing The Best Or Nothing \n"
     ]
    }
   ],
   "source": [
    "sentance_one = \"The Best Or Nothing \" \n",
    "long_sentance = sentance_one * 30\n",
    "print(long_sentance)"
   ]
  },
  {
   "cell_type": "markdown",
   "metadata": {},
   "source": [
    "Now what if you have to calculate the no of characters in the **long_sentance**.\n",
    "How will you do it ??"
   ]
  },
  {
   "cell_type": "code",
   "execution_count": 38,
   "metadata": {},
   "outputs": [
    {
     "name": "stdout",
     "output_type": "stream",
     "text": [
      "600\n"
     ]
    }
   ],
   "source": [
    "len_long_sentance = len(long_sentance) # len() returns length of object\n",
    "print(len_long_sentance)"
   ]
  },
  {
   "cell_type": "markdown",
   "metadata": {},
   "source": [
    " ## 6. Booleans : With comparision & Logical operators\n",
    " It has two values 'True' or 'False'\n",
    " \n",
    " No need to hard code anything with true or false"
   ]
  },
  {
   "cell_type": "code",
   "execution_count": 39,
   "metadata": {},
   "outputs": [
    {
     "name": "stdout",
     "output_type": "stream",
     "text": [
      "False\n"
     ]
    }
   ],
   "source": [
    "comp = 1 > 2\n",
    "print(comp)"
   ]
  },
  {
   "cell_type": "code",
   "execution_count": 40,
   "metadata": {},
   "outputs": [
    {
     "name": "stdout",
     "output_type": "stream",
     "text": [
      "True\n"
     ]
    }
   ],
   "source": [
    "comp = 1 < 2\n",
    "print(comp)"
   ]
  },
  {
   "cell_type": "code",
   "execution_count": 41,
   "metadata": {},
   "outputs": [
    {
     "name": "stdout",
     "output_type": "stream",
     "text": [
      "True\n"
     ]
    }
   ],
   "source": [
    "comp = 1 < 2 or 3 > 2\n",
    "print(comp)"
   ]
  },
  {
   "cell_type": "code",
   "execution_count": 42,
   "metadata": {},
   "outputs": [
    {
     "name": "stdout",
     "output_type": "stream",
     "text": [
      "True\n"
     ]
    }
   ],
   "source": [
    "comp = 1 < 2 or 3 < 2\n",
    "print(comp)"
   ]
  },
  {
   "cell_type": "code",
   "execution_count": 43,
   "metadata": {},
   "outputs": [
    {
     "name": "stdout",
     "output_type": "stream",
     "text": [
      "True\n"
     ]
    }
   ],
   "source": [
    "comp = 1 < 2 and 3 > 2\n",
    "print(comp)"
   ]
  },
  {
   "cell_type": "code",
   "execution_count": 44,
   "metadata": {},
   "outputs": [
    {
     "name": "stdout",
     "output_type": "stream",
     "text": [
      "False\n"
     ]
    }
   ],
   "source": [
    "comp = 1 < 2 and 3 < 2\n",
    "print(comp)"
   ]
  },
  {
   "cell_type": "code",
   "execution_count": 45,
   "metadata": {},
   "outputs": [
    {
     "name": "stdout",
     "output_type": "stream",
     "text": [
      "False\n"
     ]
    }
   ],
   "source": [
    "comp = not 1 < 2\n",
    "print(comp)"
   ]
  },
  {
   "cell_type": "code",
   "execution_count": 46,
   "metadata": {},
   "outputs": [
    {
     "name": "stdout",
     "output_type": "stream",
     "text": [
      "False\n"
     ]
    }
   ],
   "source": [
    "comp = 1 == 2 \n",
    "print(comp)"
   ]
  },
  {
   "cell_type": "code",
   "execution_count": 47,
   "metadata": {},
   "outputs": [
    {
     "name": "stdout",
     "output_type": "stream",
     "text": [
      "True\n"
     ]
    }
   ],
   "source": [
    "comp = 2 == 2 \n",
    "print(comp)"
   ]
  },
  {
   "cell_type": "code",
   "execution_count": 48,
   "metadata": {},
   "outputs": [
    {
     "name": "stdout",
     "output_type": "stream",
     "text": [
      "True\n"
     ]
    }
   ],
   "source": [
    "working_at_mercedes = True\n",
    "has_id = True\n",
    "coming_to_office = working_at_mercedes and has_id \n",
    "print(coming_to_office)"
   ]
  },
  {
   "cell_type": "markdown",
   "metadata": {},
   "source": [
    "## 7. Methods\n",
    "We have seen various functions like, len, type, print. These may or may not need argument/arguments.\n",
    "\n",
    "Function needs object as arguments. - Will see this later.\n",
    "\n",
    "Every data type has different methods. Lets try out with string - its interesting with stings :)\n",
    "\n",
    "method is accessed with 'dot' notation"
   ]
  },
  {
   "cell_type": "code",
   "execution_count": 49,
   "metadata": {},
   "outputs": [],
   "source": [
    "movie = \"once upon a TIME in mumbai\""
   ]
  },
  {
   "cell_type": "code",
   "execution_count": 50,
   "metadata": {},
   "outputs": [
    {
     "name": "stdout",
     "output_type": "stream",
     "text": [
      "once upon a TIME in mumbai\n"
     ]
    }
   ],
   "source": [
    "movie.upper()\n",
    "print(movie)"
   ]
  },
  {
   "cell_type": "code",
   "execution_count": 51,
   "metadata": {},
   "outputs": [
    {
     "name": "stdout",
     "output_type": "stream",
     "text": [
      "ONCE UPON A TIME IN MUMBAI\n"
     ]
    }
   ],
   "source": [
    "print(movie.upper())"
   ]
  },
  {
   "cell_type": "code",
   "execution_count": 52,
   "metadata": {},
   "outputs": [
    {
     "name": "stdout",
     "output_type": "stream",
     "text": [
      "Once upon a time in mumbai\n"
     ]
    }
   ],
   "source": [
    "print(movie.capitalize())"
   ]
  },
  {
   "cell_type": "code",
   "execution_count": 53,
   "metadata": {},
   "outputs": [
    {
     "name": "stdout",
     "output_type": "stream",
     "text": [
      "once upon a time in mumbai\n"
     ]
    }
   ],
   "source": [
    "print(movie.lower())"
   ]
  },
  {
   "cell_type": "code",
   "execution_count": 54,
   "metadata": {},
   "outputs": [
    {
     "name": "stdout",
     "output_type": "stream",
     "text": [
      "['once', 'upon', 'a', 'TIME', 'in', 'mumbai']\n"
     ]
    }
   ],
   "source": [
    "print(movie.split(' '))"
   ]
  },
  {
   "cell_type": "code",
   "execution_count": 55,
   "metadata": {},
   "outputs": [
    {
     "name": "stdout",
     "output_type": "stream",
     "text": [
      "2\n"
     ]
    }
   ],
   "source": [
    "print(movie.count('a'))"
   ]
  },
  {
   "cell_type": "markdown",
   "metadata": {},
   "source": [
    "Every data types has its own  methods."
   ]
  },
  {
   "cell_type": "markdown",
   "metadata": {},
   "source": [
    "## 8. List"
   ]
  },
  {
   "cell_type": "markdown",
   "metadata": {},
   "source": [
    "Basic data structure in the python is sequence. Sequence is composed of elements.\n",
    "Each Element has index that indicates its position.\n",
    "```\n",
    "[element_1, element_2, element_3 ]\n",
    "[   0    ,    1     ,     2     ] \n",
    "```\n",
    "\n",
    "List are always written in SQUARE BRACKETS"
   ]
  },
  {
   "cell_type": "code",
   "execution_count": 56,
   "metadata": {},
   "outputs": [],
   "source": [
    "name = ['Mercedes','BMW','Audi']"
   ]
  },
  {
   "cell_type": "code",
   "execution_count": 57,
   "metadata": {},
   "outputs": [
    {
     "name": "stdout",
     "output_type": "stream",
     "text": [
      "Mercedes\n",
      "BMW\n",
      "Audi\n"
     ]
    }
   ],
   "source": [
    "print(name[0])\n",
    "print(name[1])\n",
    "print(name[2])"
   ]
  },
  {
   "cell_type": "code",
   "execution_count": 58,
   "metadata": {},
   "outputs": [
    {
     "ename": "IndexError",
     "evalue": "list index out of range",
     "output_type": "error",
     "traceback": [
      "\u001b[1;31m---------------------------------------------------------------------------\u001b[0m",
      "\u001b[1;31mIndexError\u001b[0m                                Traceback (most recent call last)",
      "\u001b[1;32m<ipython-input-58-7f9a47725a3c>\u001b[0m in \u001b[0;36m<module>\u001b[1;34m\u001b[0m\n\u001b[0;32m      1\u001b[0m \u001b[1;31m# Try accessing something that is out of Range\u001b[0m\u001b[1;33m\u001b[0m\u001b[1;33m\u001b[0m\u001b[1;33m\u001b[0m\u001b[0m\n\u001b[1;32m----> 2\u001b[1;33m \u001b[0mprint\u001b[0m\u001b[1;33m(\u001b[0m\u001b[0mname\u001b[0m\u001b[1;33m[\u001b[0m\u001b[1;36m200\u001b[0m\u001b[1;33m]\u001b[0m\u001b[1;33m)\u001b[0m\u001b[1;33m\u001b[0m\u001b[1;33m\u001b[0m\u001b[0m\n\u001b[0m",
      "\u001b[1;31mIndexError\u001b[0m: list index out of range"
     ]
    }
   ],
   "source": [
    "# Try accessing something that is out of Range\n",
    "print(name[200])"
   ]
  },
  {
   "cell_type": "code",
   "execution_count": 59,
   "metadata": {},
   "outputs": [],
   "source": [
    "# List need NOT to contain the same data type\n",
    "diff_data = ['Mercedes','BMW','Audi', 20.2, 87, True, False]"
   ]
  },
  {
   "cell_type": "code",
   "execution_count": 60,
   "metadata": {},
   "outputs": [
    {
     "name": "stdout",
     "output_type": "stream",
     "text": [
      "7\n"
     ]
    }
   ],
   "source": [
    "# Length of list\n",
    "length = len(diff_data)\n",
    "print(length)"
   ]
  },
  {
   "cell_type": "code",
   "execution_count": 61,
   "metadata": {},
   "outputs": [
    {
     "ename": "IndexError",
     "evalue": "list index out of range",
     "output_type": "error",
     "traceback": [
      "\u001b[1;31m---------------------------------------------------------------------------\u001b[0m",
      "\u001b[1;31mIndexError\u001b[0m                                Traceback (most recent call last)",
      "\u001b[1;32m<ipython-input-61-48b03f3343d6>\u001b[0m in \u001b[0;36m<module>\u001b[1;34m\u001b[0m\n\u001b[1;32m----> 1\u001b[1;33m \u001b[0mprint\u001b[0m\u001b[1;33m(\u001b[0m\u001b[0mdiff_data\u001b[0m\u001b[1;33m[\u001b[0m\u001b[0mlength\u001b[0m\u001b[1;33m]\u001b[0m\u001b[1;33m)\u001b[0m\u001b[1;33m\u001b[0m\u001b[1;33m\u001b[0m\u001b[0m\n\u001b[0m",
      "\u001b[1;31mIndexError\u001b[0m: list index out of range"
     ]
    }
   ],
   "source": [
    "print(diff_data[length])"
   ]
  },
  {
   "cell_type": "code",
   "execution_count": 62,
   "metadata": {},
   "outputs": [
    {
     "name": "stdout",
     "output_type": "stream",
     "text": [
      "False\n"
     ]
    }
   ],
   "source": [
    "print(diff_data[length-1])"
   ]
  },
  {
   "cell_type": "code",
   "execution_count": 63,
   "metadata": {},
   "outputs": [
    {
     "name": "stdout",
     "output_type": "stream",
     "text": [
      "False\n"
     ]
    }
   ],
   "source": [
    "print(diff_data[-1])"
   ]
  },
  {
   "cell_type": "code",
   "execution_count": 64,
   "metadata": {},
   "outputs": [
    {
     "name": "stdout",
     "output_type": "stream",
     "text": [
      "87\n"
     ]
    }
   ],
   "source": [
    "print(diff_data[-3])"
   ]
  },
  {
   "cell_type": "markdown",
   "metadata": {},
   "source": [
    "## 9. Slicing\n",
    "We can access more than one element from a list by slicing.\n",
    "It need indices which specifies a range : START and STOP\n",
    "\n",
    "For example, take both indices as below :\n",
    "START = 1\n",
    "STOP = 6\n",
    "\n",
    "list_experiment = [0,1,2,3,4,5,6,7]\n",
    "\n",
    "Here count from 0 (START indices) till ... STOP is 6, means counting from 0 and on 6th count we will reach to 5.\n",
    "\n",
    "This means STOP indices is EXCLUSIVE.\n",
    "\n",
    "Lets check it out."
   ]
  },
  {
   "cell_type": "code",
   "execution_count": 65,
   "metadata": {},
   "outputs": [
    {
     "name": "stdout",
     "output_type": "stream",
     "text": [
      "[0, 1, 2, 3, 4, 5, 6, 7, 8, 9, 10]\n"
     ]
    }
   ],
   "source": [
    "numbers = [0, 1, 2, 3, 4, 5, 6, 7 ,8 ,9 ,10]\n",
    "print(numbers)"
   ]
  },
  {
   "cell_type": "code",
   "execution_count": 66,
   "metadata": {},
   "outputs": [
    {
     "name": "stdout",
     "output_type": "stream",
     "text": [
      "[2, 3, 4, 5, 6, 7, 8, 9]\n"
     ]
    }
   ],
   "source": [
    "# Lets take out element from 2 to 9 \n",
    "print(numbers[2:10])"
   ]
  },
  {
   "cell_type": "code",
   "execution_count": 67,
   "metadata": {},
   "outputs": [
    {
     "name": "stdout",
     "output_type": "stream",
     "text": [
      "Method 1 ::  [0, 1, 2, 3, 4, 5, 6, 7, 8, 9]\n",
      "Method 2 ::  [0, 1, 2, 3, 4, 5, 6, 7, 8, 9]\n"
     ]
    }
   ],
   "source": [
    "# Lets take out element from 0 to 9 \n",
    "print(\"Method 1 :: \", numbers[0:10])\n",
    "\n",
    "# Observe here, there is on starting index\n",
    "print(\"Method 2 :: \", numbers[:10]) "
   ]
  },
  {
   "cell_type": "code",
   "execution_count": 68,
   "metadata": {},
   "outputs": [
    {
     "name": "stdout",
     "output_type": "stream",
     "text": [
      "Method 1 ::  [2, 3, 4, 5, 6, 7, 8, 9, 10]\n",
      "Method 2 ::  [2, 3, 4, 5, 6, 7, 8, 9, 10]\n",
      "Method 3 ::  [2, 3, 4, 5, 6, 7, 8, 9, 10]\n"
     ]
    }
   ],
   "source": [
    "# everything form 2 to 10\n",
    "print(\"Method 1 :: \", numbers[2:11]) \n",
    "\n",
    "print(\"Method 2 :: \", numbers[2:len(numbers)])\n",
    "\n",
    "# Everything till last index if last index is not given\n",
    "print(\"Method 3 :: \", numbers[2:]) "
   ]
  },
  {
   "cell_type": "code",
   "execution_count": 69,
   "metadata": {},
   "outputs": [
    {
     "name": "stdout",
     "output_type": "stream",
     "text": [
      "[0, 1, 2, 3, 4, 5, 6, 7, 8, 9, 10]\n"
     ]
    }
   ],
   "source": [
    "# Entire list in the Slicing way\n",
    "# but when you want to have complete list, you do not need to slice it\n",
    "\n",
    "print(numbers[:]) "
   ]
  },
  {
   "cell_type": "markdown",
   "metadata": {},
   "source": [
    "#### Creating list of numbers in more concise way"
   ]
  },
  {
   "cell_type": "code",
   "execution_count": 70,
   "metadata": {},
   "outputs": [
    {
     "name": "stdout",
     "output_type": "stream",
     "text": [
      "[0, 1, 2, 3, 4, 5, 6, 7, 8, 9]\n"
     ]
    }
   ],
   "source": [
    "# STOP index/num is EXCLUSIVE\n",
    "# Printing the list from range 0 -9\n",
    "\n",
    "print(list(range(0,10)))"
   ]
  },
  {
   "cell_type": "code",
   "execution_count": 71,
   "metadata": {},
   "outputs": [
    {
     "name": "stdout",
     "output_type": "stream",
     "text": [
      "[0, 1, 2, 3, 4, 5, 6, 7, 8, 9, 10, 11, 12, 13, 14, 15, 16, 17, 18, 19, 20, 21, 22, 23, 24, 25, 26, 27, 28, 29, 30, 31, 32, 33, 34, 35, 36, 37, 38, 39, 40, 41, 42, 43, 44, 45, 46, 47, 48, 49, 50, 51, 52, 53, 54, 55, 56, 57, 58, 59, 60, 61, 62, 63, 64, 65, 66, 67, 68, 69, 70, 71, 72, 73, 74, 75, 76, 77, 78, 79, 80, 81, 82, 83, 84, 85, 86, 87, 88, 89, 90, 91, 92, 93, 94, 95, 96, 97, 98, 99]\n"
     ]
    }
   ],
   "source": [
    "# Printing the list from range 0 -99\n",
    "# Hardcoding them would have taken to much of time\n",
    "# here range saves us :)\n",
    "\n",
    "print(list(range(0,100)))"
   ]
  },
  {
   "cell_type": "code",
   "execution_count": 72,
   "metadata": {},
   "outputs": [
    {
     "name": "stdout",
     "output_type": "stream",
     "text": [
      "[0, 1, 2, 3, 4, 5, 6, 7, 8, 9, 10, 11, 12, 13, 14, 15, 16, 17, 18, 19, 20, 21, 22, 23, 24, 25, 26, 27, 28, 29, 30, 31, 32, 33, 34, 35, 36, 37, 38, 39, 40, 41, 42, 43, 44, 45, 46, 47, 48, 49, 50, 51, 52, 53, 54, 55, 56, 57, 58, 59, 60, 61, 62, 63, 64, 65, 66, 67, 68, 69, 70, 71, 72, 73, 74, 75, 76, 77, 78, 79, 80, 81, 82, 83, 84, 85, 86, 87, 88, 89, 90, 91, 92, 93, 94, 95, 96, 97, 98, 99]\n"
     ]
    }
   ],
   "source": [
    "# Printing the list from range 0 -9\n",
    "# If start index in range function is not defined, python assume\n",
    "# start index as 0\n",
    "\n",
    "print(list(range(100)))"
   ]
  },
  {
   "cell_type": "code",
   "execution_count": 73,
   "metadata": {},
   "outputs": [
    {
     "name": "stdout",
     "output_type": "stream",
     "text": [
      "[0, 5, 10, 15, 20, 25, 30, 35, 40, 45, 50, 55, 60, 65, 70, 75, 80, 85, 90, 95]\n"
     ]
    }
   ],
   "source": [
    "# There one more important argument in range function, the third argument\n",
    "# in fn is STEP SIZE \n",
    "# Note : Ensure to add START index when using STEP SIZE\n",
    "# Here starting from Zero step size of 5 is taken int account, \n",
    "# it means that it will include every fifthe no in sequence\n",
    "\n",
    "print(list(range(0,100,5)))"
   ]
  },
  {
   "cell_type": "code",
   "execution_count": 74,
   "metadata": {},
   "outputs": [
    {
     "name": "stdout",
     "output_type": "stream",
     "text": [
      "[0, 3, 6, 9, 12, 15, 18, 21, 24, 27, 30, 33, 36, 39, 42, 45, 48, 51, 54, 57, 60, 63, 66, 69, 72, 75, 78, 81, 84, 87, 90, 93, 96, 99]\n"
     ]
    }
   ],
   "source": [
    "print(list(range(0,100,3)))"
   ]
  },
  {
   "cell_type": "markdown",
   "metadata": {},
   "source": [
    "#### Slicing of String"
   ]
  },
  {
   "cell_type": "code",
   "execution_count": 75,
   "metadata": {},
   "outputs": [
    {
     "name": "stdout",
     "output_type": "stream",
     "text": [
      "1 -  Mercedes-Benz Research and Development India\n",
      "2 -  des-Benz Research and Development India\n",
      "3 -  Mercedes-Benz Research and Development India\n",
      "4 -  Mercedes-Benz Research and Development Indi\n"
     ]
    }
   ],
   "source": [
    "# You can SLICE string in the same way as of LIST\n",
    "office_name = \"Mercedes-Benz Research and Development India\"\n",
    "length = len(office_name)\n",
    "\n",
    "print(\"1 - \", office_name[:])\n",
    "print(\"2 - \", office_name[5:])\n",
    "print(\"3 - \", office_name[:length])\n",
    "print(\"4 - \", office_name[:-1])"
   ]
  },
  {
   "cell_type": "markdown",
   "metadata": {},
   "source": [
    "## 10. Membership Operators\n",
    "Strings and list are 'like' similar kind of data type\n",
    "\n",
    "* 'in'\n",
    "* 'not in'\n",
    "\n",
    "These results in _True_ or _False_"
   ]
  },
  {
   "cell_type": "code",
   "execution_count": 76,
   "metadata": {},
   "outputs": [
    {
     "name": "stdout",
     "output_type": "stream",
     "text": [
      "1.  False\n",
      "2.  True\n"
     ]
    }
   ],
   "source": [
    "weeks = ['Mon', 'Tue' , 'Wed']\n",
    "\n",
    "# Evaluation for 'in'\n",
    "print('1. ', 'Sat' in weeks)\n",
    "print('2. ', 'Tue' in weeks)"
   ]
  },
  {
   "cell_type": "code",
   "execution_count": 77,
   "metadata": {},
   "outputs": [
    {
     "name": "stdout",
     "output_type": "stream",
     "text": [
      "1.  True\n",
      "2.  False\n"
     ]
    }
   ],
   "source": [
    "# Evaluation for 'in'\n",
    "print('1. ', 'Sat' not in weeks)\n",
    "print('2. ', 'Tue' not in weeks)"
   ]
  },
  {
   "cell_type": "markdown",
   "metadata": {},
   "source": [
    "## 11. Mutability I\n",
    "\n",
    "Mutable   : Liable to change.\n",
    "\n",
    "Immutable : Not Liable to change\n",
    "\n",
    "Whether are not we can CHANGE somthing once its been CREATED !\n",
    "\n",
    "* If object CAN be change then its MUTABLE\n",
    "* If object CANNOT be change then its IMMUTABLE.\n",
    "\n",
    "LIST and STRING is very similar data types in the sence that they share similar methods. But they are distinct in many way - one difference is Mutability.\n",
    "\n",
    "**LIST - Mutable ordered sequence of elements**\n",
    "\n",
    "**STRING- Immutable ordered sequence of elements**\n",
    "\n",
    "\n"
   ]
  },
  {
   "cell_type": "code",
   "execution_count": 78,
   "metadata": {},
   "outputs": [],
   "source": [
    "items = [\"pencil\" , \"book\", \"bag\"]"
   ]
  },
  {
   "cell_type": "code",
   "execution_count": 79,
   "metadata": {},
   "outputs": [
    {
     "name": "stdout",
     "output_type": "stream",
     "text": [
      "['pencil', 'notebook', 'bag']\n"
     ]
    }
   ],
   "source": [
    "# Changing book to \"notebook\"\n",
    "items[1] = \"notebook\"\n",
    "print(items)"
   ]
  },
  {
   "cell_type": "code",
   "execution_count": 80,
   "metadata": {},
   "outputs": [
    {
     "name": "stdout",
     "output_type": "stream",
     "text": [
      "Merzedes\n"
     ]
    }
   ],
   "source": [
    "# Now check same with string.\n",
    "# Making spelling mistake in Mercedes and then will try to change it\n",
    "car = 'Merzedes'\n",
    "print(car)"
   ]
  },
  {
   "cell_type": "code",
   "execution_count": 81,
   "metadata": {},
   "outputs": [
    {
     "name": "stdout",
     "output_type": "stream",
     "text": [
      "z\n"
     ]
    }
   ],
   "source": [
    "# Lets try to change it\n",
    "print(car[3])"
   ]
  },
  {
   "cell_type": "code",
   "execution_count": 82,
   "metadata": {},
   "outputs": [
    {
     "ename": "TypeError",
     "evalue": "'str' object does not support item assignment",
     "output_type": "error",
     "traceback": [
      "\u001b[1;31m---------------------------------------------------------------------------\u001b[0m",
      "\u001b[1;31mTypeError\u001b[0m                                 Traceback (most recent call last)",
      "\u001b[1;32m<ipython-input-82-9715fe3b92bf>\u001b[0m in \u001b[0;36m<module>\u001b[1;34m\u001b[0m\n\u001b[1;32m----> 1\u001b[1;33m \u001b[0mcar\u001b[0m\u001b[1;33m[\u001b[0m\u001b[1;36m3\u001b[0m\u001b[1;33m]\u001b[0m \u001b[1;33m=\u001b[0m \u001b[1;34m'c'\u001b[0m\u001b[1;33m\u001b[0m\u001b[1;33m\u001b[0m\u001b[0m\n\u001b[0m",
      "\u001b[1;31mTypeError\u001b[0m: 'str' object does not support item assignment"
     ]
    }
   ],
   "source": [
    "car[3] = 'c'"
   ]
  },
  {
   "cell_type": "markdown",
   "metadata": {},
   "source": [
    "## 12. Mutability II"
   ]
  },
  {
   "cell_type": "code",
   "execution_count": 83,
   "metadata": {},
   "outputs": [
    {
     "name": "stdout",
     "output_type": "stream",
     "text": [
      "1 -  Mercedes\n",
      "2 -  Mercedes\n",
      "3 -  Benz\n",
      "4 -  Mercedes\n"
     ]
    }
   ],
   "source": [
    "# Lets see strings\n",
    "name = 'Mercedes'\n",
    "other_name = name\n",
    "print(\"1 - \",name)\n",
    "print(\"2 - \",other_name)\n",
    "name = 'Benz'\n",
    "print(\"3 - \",name)\n",
    "print(\"4 - \",other_name)\n",
    "\n",
    "# This is where mutability comes into picture\n",
    "# other_name doesnt changes even after changing name."
   ]
  },
  {
   "cell_type": "code",
   "execution_count": 84,
   "metadata": {},
   "outputs": [],
   "source": [
    "# Lets see here with with LIST and its mutability\n",
    "coding_lang = ['C++', 'Python', 'C', 'C#', 'Java']"
   ]
  },
  {
   "cell_type": "code",
   "execution_count": 85,
   "metadata": {},
   "outputs": [],
   "source": [
    "more_coding_lang = coding_lang"
   ]
  },
  {
   "cell_type": "code",
   "execution_count": 86,
   "metadata": {},
   "outputs": [
    {
     "name": "stdout",
     "output_type": "stream",
     "text": [
      "Go\n"
     ]
    }
   ],
   "source": [
    "coding_lang[0]  = \"Go\"\n",
    "print(coding_lang[0])"
   ]
  },
  {
   "cell_type": "code",
   "execution_count": 87,
   "metadata": {},
   "outputs": [
    {
     "name": "stdout",
     "output_type": "stream",
     "text": [
      "['Go', 'Python', 'C', 'C#', 'Java']\n"
     ]
    }
   ],
   "source": [
    "print(coding_lang)"
   ]
  },
  {
   "cell_type": "code",
   "execution_count": 88,
   "metadata": {},
   "outputs": [
    {
     "name": "stdout",
     "output_type": "stream",
     "text": [
      "['Go', 'Python', 'C', 'C#', 'Java']\n"
     ]
    }
   ],
   "source": [
    "print(more_coding_lang)"
   ]
  },
  {
   "cell_type": "markdown",
   "metadata": {},
   "source": [
    "Note : **Be cautious while working with LIST, STRING or better to say Mutable and Immutable data types**"
   ]
  },
  {
   "cell_type": "markdown",
   "metadata": {},
   "source": [
    "## 13. Common Function & Methods\n",
    "Here we will se various function and Methods associated with Lists. "
   ]
  },
  {
   "cell_type": "code",
   "execution_count": 89,
   "metadata": {},
   "outputs": [
    {
     "data": {
      "text/plain": [
       "5"
      ]
     },
     "execution_count": 89,
     "metadata": {},
     "output_type": "execute_result"
    }
   ],
   "source": [
    "# len() returns no of elements in LIST\n",
    "num = [4,6,2,8,1]\n",
    "len(num)"
   ]
  },
  {
   "cell_type": "code",
   "execution_count": 90,
   "metadata": {},
   "outputs": [
    {
     "data": {
      "text/plain": [
       "8"
      ]
     },
     "execution_count": 90,
     "metadata": {},
     "output_type": "execute_result"
    }
   ],
   "source": [
    "max(num)"
   ]
  },
  {
   "cell_type": "code",
   "execution_count": 91,
   "metadata": {},
   "outputs": [
    {
     "data": {
      "text/plain": [
       "'zeta'"
      ]
     },
     "execution_count": 91,
     "metadata": {},
     "output_type": "execute_result"
    }
   ],
   "source": [
    "# How max() will work on list of string\n",
    "name = ['alpha','zeta', 'gama','beta']\n",
    "max(name)"
   ]
  },
  {
   "cell_type": "code",
   "execution_count": 92,
   "metadata": {},
   "outputs": [
    {
     "data": {
      "text/plain": [
       "'zeta'"
      ]
     },
     "execution_count": 92,
     "metadata": {},
     "output_type": "execute_result"
    }
   ],
   "source": [
    "# max() in string of list is based on alphabetical order\n",
    "name_1 = ['alpha','beta', 'gama','zebra', 'zeta']\n",
    "max(name_1)"
   ]
  },
  {
   "cell_type": "code",
   "execution_count": 93,
   "metadata": {},
   "outputs": [
    {
     "data": {
      "text/plain": [
       "'alpha'"
      ]
     },
     "execution_count": 93,
     "metadata": {},
     "output_type": "execute_result"
    }
   ],
   "source": [
    "min(name_1)"
   ]
  },
  {
   "cell_type": "code",
   "execution_count": 94,
   "metadata": {},
   "outputs": [
    {
     "ename": "TypeError",
     "evalue": "'>' not supported between instances of 'int' and 'str'",
     "output_type": "error",
     "traceback": [
      "\u001b[1;31m---------------------------------------------------------------------------\u001b[0m",
      "\u001b[1;31mTypeError\u001b[0m                                 Traceback (most recent call last)",
      "\u001b[1;32m<ipython-input-94-ac6004c908fc>\u001b[0m in \u001b[0;36m<module>\u001b[1;34m\u001b[0m\n\u001b[0;32m      1\u001b[0m \u001b[1;31m# max() in mixed list\u001b[0m\u001b[1;33m\u001b[0m\u001b[1;33m\u001b[0m\u001b[1;33m\u001b[0m\u001b[0m\n\u001b[0;32m      2\u001b[0m \u001b[0mname_2\u001b[0m \u001b[1;33m=\u001b[0m \u001b[1;33m[\u001b[0m\u001b[1;34m'alpha'\u001b[0m\u001b[1;33m,\u001b[0m\u001b[1;34m'beta'\u001b[0m\u001b[1;33m,\u001b[0m \u001b[1;34m'gama'\u001b[0m\u001b[1;33m,\u001b[0m\u001b[1;34m'zebra'\u001b[0m\u001b[1;33m,\u001b[0m \u001b[1;34m'zeta'\u001b[0m\u001b[1;33m,\u001b[0m \u001b[1;36m1\u001b[0m \u001b[1;33m,\u001b[0m\u001b[1;36m2\u001b[0m\u001b[1;33m]\u001b[0m\u001b[1;33m\u001b[0m\u001b[1;33m\u001b[0m\u001b[0m\n\u001b[1;32m----> 3\u001b[1;33m \u001b[0mmax\u001b[0m\u001b[1;33m(\u001b[0m\u001b[0mname_2\u001b[0m\u001b[1;33m)\u001b[0m\u001b[1;33m\u001b[0m\u001b[1;33m\u001b[0m\u001b[0m\n\u001b[0m",
      "\u001b[1;31mTypeError\u001b[0m: '>' not supported between instances of 'int' and 'str'"
     ]
    }
   ],
   "source": [
    "# max() in mixed list\n",
    "name_2 = ['alpha','beta', 'gama','zebra', 'zeta', 1 ,2]\n",
    "max(name_2)"
   ]
  },
  {
   "cell_type": "code",
   "execution_count": 95,
   "metadata": {},
   "outputs": [
    {
     "data": {
      "text/plain": [
       "[1, 2, 4, 6, 8]"
      ]
     },
     "execution_count": 95,
     "metadata": {},
     "output_type": "execute_result"
    }
   ],
   "source": [
    "# Sorting the list - remember it gives copy of the list\n",
    "sorted(num)"
   ]
  },
  {
   "cell_type": "code",
   "execution_count": 96,
   "metadata": {},
   "outputs": [
    {
     "name": "stdout",
     "output_type": "stream",
     "text": [
      "[4, 6, 2, 8, 1]\n"
     ]
    }
   ],
   "source": [
    "# See, there is no difference. Origional remain same!\n",
    "print(num)"
   ]
  },
  {
   "cell_type": "code",
   "execution_count": 97,
   "metadata": {},
   "outputs": [
    {
     "data": {
      "text/plain": [
       "['alpha', 'beta', 'gama', 'zeta']"
      ]
     },
     "execution_count": 97,
     "metadata": {},
     "output_type": "execute_result"
    }
   ],
   "source": [
    "sorted(name)"
   ]
  },
  {
   "cell_type": "markdown",
   "metadata": {},
   "source": [
    "**Lets see join( _ ) method**"
   ]
  },
  {
   "cell_type": "code",
   "execution_count": 98,
   "metadata": {},
   "outputs": [
    {
     "data": {
      "text/plain": [
       "'Jan-Feb-March'"
      ]
     },
     "execution_count": 98,
     "metadata": {},
     "output_type": "execute_result"
    }
   ],
   "source": [
    "# Lets see join(_) method\n",
    "'-'.join(['Jan','Feb','March'])"
   ]
  },
  {
   "cell_type": "code",
   "execution_count": 99,
   "metadata": {},
   "outputs": [
    {
     "data": {
      "text/plain": [
       "'Jan*Feb*March'"
      ]
     },
     "execution_count": 99,
     "metadata": {},
     "output_type": "execute_result"
    }
   ],
   "source": [
    "'*'.join(['Jan','Feb','March'])"
   ]
  },
  {
   "cell_type": "code",
   "execution_count": 100,
   "metadata": {},
   "outputs": [
    {
     "data": {
      "text/plain": [
       "'Jan-####-Feb-####-March'"
      ]
     },
     "execution_count": 100,
     "metadata": {},
     "output_type": "execute_result"
    }
   ],
   "source": [
    "'-####-'.join(['Jan','Feb','March'])"
   ]
  },
  {
   "cell_type": "code",
   "execution_count": 101,
   "metadata": {},
   "outputs": [
    {
     "data": {
      "text/plain": [
       "'alpha-####-beta-####-gama-####-zebra-####-zeta'"
      ]
     },
     "execution_count": 101,
     "metadata": {},
     "output_type": "execute_result"
    }
   ],
   "source": [
    "'-####-'.join(name_1)"
   ]
  },
  {
   "cell_type": "markdown",
   "metadata": {},
   "source": [
    "**Lets see format( _ ) method : Easily demonstrated with print()**"
   ]
  },
  {
   "cell_type": "code",
   "execution_count": 102,
   "metadata": {},
   "outputs": [
    {
     "name": "stdout",
     "output_type": "stream",
     "text": [
      "This person is tall, slim, and with black hair\n"
     ]
    }
   ],
   "source": [
    "print(\"This person is {}, {}, and with {} hair\".format('tall','slim','black'))"
   ]
  },
  {
   "cell_type": "markdown",
   "metadata": {},
   "source": [
    "**Lets see append()**"
   ]
  },
  {
   "cell_type": "code",
   "execution_count": 103,
   "metadata": {},
   "outputs": [
    {
     "data": {
      "text/plain": [
       "['Jan', 'Feb', 'March']"
      ]
     },
     "execution_count": 103,
     "metadata": {},
     "output_type": "execute_result"
    }
   ],
   "source": [
    "month = ['Jan','Feb','March']\n",
    "month"
   ]
  },
  {
   "cell_type": "code",
   "execution_count": 104,
   "metadata": {},
   "outputs": [
    {
     "name": "stdout",
     "output_type": "stream",
     "text": [
      "['Jan', 'Feb', 'March', 'April']\n"
     ]
    }
   ],
   "source": [
    "month.append('April')\n",
    "print(month)"
   ]
  },
  {
   "cell_type": "markdown",
   "metadata": {},
   "source": [
    "## 14. Tuples\n",
    "**Tuple- Immutable ordered sequence of elements**\n",
    "Stores related information.\n",
    "\n",
    "(related information)"
   ]
  },
  {
   "cell_type": "code",
   "execution_count": 105,
   "metadata": {},
   "outputs": [
    {
     "name": "stdout",
     "output_type": "stream",
     "text": [
      "tall thin black\n"
     ]
    }
   ],
   "source": [
    "feature = ('tall','thin','black')\n",
    "height = feature[0]\n",
    "build =  feature[1]\n",
    "hair =  feature[2]\n",
    "print(height, build, hair)"
   ]
  },
  {
   "cell_type": "code",
   "execution_count": 106,
   "metadata": {},
   "outputs": [
    {
     "name": "stdout",
     "output_type": "stream",
     "text": [
      "tall thin black\n"
     ]
    }
   ],
   "source": [
    "feature_1 = 'tall','thin','black'\n",
    "height_1 = feature_1[0]\n",
    "build_1 =  feature_1[1]\n",
    "hair_1 =  feature_1[2]\n",
    "print(height_1, build_1, hair_1)"
   ]
  },
  {
   "cell_type": "code",
   "execution_count": 107,
   "metadata": {},
   "outputs": [
    {
     "name": "stdout",
     "output_type": "stream",
     "text": [
      "tall thin black\n"
     ]
    }
   ],
   "source": [
    "feature_2 = 'tall','thin','black'\n",
    "height_2, build_2, hair_2 = feature_2\n",
    "print(height_2, build_2, hair_2)"
   ]
  },
  {
   "cell_type": "code",
   "execution_count": 108,
   "metadata": {},
   "outputs": [
    {
     "name": "stdout",
     "output_type": "stream",
     "text": [
      "tall thin black\n"
     ]
    }
   ],
   "source": [
    "height_3, build_3, hair_3 = 'tall','thin','black'\n",
    "print(height_3, build_3, hair_3)"
   ]
  },
  {
   "cell_type": "markdown",
   "metadata": {},
   "source": [
    "## 15. Sets\n",
    "Sets elements are unique.\n",
    "\n",
    "**SETS are UNORDERED**"
   ]
  },
  {
   "cell_type": "code",
   "execution_count": 109,
   "metadata": {},
   "outputs": [
    {
     "name": "stdout",
     "output_type": "stream",
     "text": [
      "{1, 3, 5, 6, 7}\n"
     ]
    }
   ],
   "source": [
    "duplicate_num = [1,1,1,1,1,3,5,6,7,5,5,5,5,3,3]\n",
    "unique_num = set(duplicate_num)\n",
    "print(unique_num)"
   ]
  },
  {
   "cell_type": "code",
   "execution_count": 110,
   "metadata": {},
   "outputs": [
    {
     "name": "stdout",
     "output_type": "stream",
     "text": [
      "{1, 3, 4, 5, 6, 7}\n"
     ]
    }
   ],
   "source": [
    "unique_num.add(4)\n",
    "print(unique_num)"
   ]
  },
  {
   "cell_type": "code",
   "execution_count": 111,
   "metadata": {},
   "outputs": [
    {
     "name": "stdout",
     "output_type": "stream",
     "text": [
      "{1, 3, 4, 5, 6, 7}\n"
     ]
    }
   ],
   "source": [
    "unique_num.add(4)\n",
    "print(unique_num)"
   ]
  },
  {
   "cell_type": "markdown",
   "metadata": {},
   "source": [
    "## 16. Dictionaries\n",
    "\n",
    "* Much more flixible\n",
    "* Mutable data types\n",
    "* having _key:value_ pair\n",
    "* These are not ordered\n",
    "* Dictionaries are indexed by 'keys'\n",
    "\n",
    "key themself which compose the dictionary must be unique and of IMMUTABLE type : String , number or Tuples"
   ]
  },
  {
   "cell_type": "code",
   "execution_count": 112,
   "metadata": {},
   "outputs": [],
   "source": [
    "# In python, dictionaries are denoted by curly braces\n",
    "# Lets create Dictionary with item:price\n",
    "inventory = {'bananas':35.5, 'apple':120.0, 'oranges':59.5}"
   ]
  },
  {
   "cell_type": "code",
   "execution_count": 113,
   "metadata": {},
   "outputs": [
    {
     "name": "stdout",
     "output_type": "stream",
     "text": [
      "35.5\n"
     ]
    }
   ],
   "source": [
    "print(inventory['bananas'])"
   ]
  },
  {
   "cell_type": "code",
   "execution_count": 114,
   "metadata": {},
   "outputs": [],
   "source": [
    "inventory['bananas'] = 40"
   ]
  },
  {
   "cell_type": "code",
   "execution_count": 115,
   "metadata": {},
   "outputs": [
    {
     "name": "stdout",
     "output_type": "stream",
     "text": [
      "40\n"
     ]
    }
   ],
   "source": [
    "print(inventory['bananas'])"
   ]
  },
  {
   "cell_type": "code",
   "execution_count": 116,
   "metadata": {},
   "outputs": [
    {
     "name": "stdout",
     "output_type": "stream",
     "text": [
      "40\n"
     ]
    }
   ],
   "source": [
    "bananas_price = inventory.get('bananas')\n",
    "print(bananas_price)"
   ]
  },
  {
   "cell_type": "code",
   "execution_count": 117,
   "metadata": {},
   "outputs": [
    {
     "name": "stdout",
     "output_type": "stream",
     "text": [
      "None\n"
     ]
    }
   ],
   "source": [
    "# For unavailable key in the dictionary, we will get none\n",
    "berries_price = inventory.get('berries')\n",
    "print(berries_price)"
   ]
  },
  {
   "cell_type": "code",
   "execution_count": 118,
   "metadata": {},
   "outputs": [
    {
     "name": "stdout",
     "output_type": "stream",
     "text": [
      "False\n"
     ]
    }
   ],
   "source": [
    "print('papaya' in inventory)"
   ]
  },
  {
   "cell_type": "code",
   "execution_count": 119,
   "metadata": {},
   "outputs": [
    {
     "name": "stdout",
     "output_type": "stream",
     "text": [
      "True\n"
     ]
    }
   ],
   "source": [
    "print('oranges' in inventory)"
   ]
  },
  {
   "cell_type": "markdown",
   "metadata": {},
   "source": [
    "## 17. Compounded Data Structures\n",
    "Lets add more data to our inventory, say state of origion or so !"
   ]
  },
  {
   "cell_type": "code",
   "execution_count": 120,
   "metadata": {},
   "outputs": [],
   "source": [
    "grocery = {'bananas'  : {'price' : 35.5, 'state of origion' : 'KA '}, \n",
    "           'apple'    : {'price' : 120,  'state of origion' : 'J&K'}, \n",
    "           'oranges'  : {'price' : 120,  'state of origion' : 'MH '}\n",
    "          }"
   ]
  },
  {
   "cell_type": "code",
   "execution_count": 121,
   "metadata": {},
   "outputs": [
    {
     "name": "stdout",
     "output_type": "stream",
     "text": [
      "{'price': 35.5, 'state of origion': 'KA '}\n"
     ]
    }
   ],
   "source": [
    "print(grocery['bananas'])"
   ]
  },
  {
   "cell_type": "code",
   "execution_count": 122,
   "metadata": {},
   "outputs": [
    {
     "name": "stdout",
     "output_type": "stream",
     "text": [
      "MH \n"
     ]
    }
   ],
   "source": [
    "print(grocery['oranges']['state of origion'])"
   ]
  },
  {
   "cell_type": "markdown",
   "metadata": {},
   "source": [
    " ------------------------ We conclude here the Crash Course PART 1 ------------------------"
   ]
  }
 ],
 "metadata": {
  "kernelspec": {
   "display_name": "Python 3",
   "language": "python",
   "name": "python3"
  },
  "language_info": {
   "codemirror_mode": {
    "name": "ipython",
    "version": 3
   },
   "file_extension": ".py",
   "mimetype": "text/x-python",
   "name": "python",
   "nbconvert_exporter": "python",
   "pygments_lexer": "ipython3",
   "version": "3.6.10"
  }
 },
 "nbformat": 4,
 "nbformat_minor": 4
}
